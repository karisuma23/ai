{
  "nbformat": 4,
  "nbformat_minor": 0,
  "metadata": {
    "colab": {
      "name": "01HW20220125나기업15.ipynb",
      "provenance": [],
      "collapsed_sections": [],
      "authorship_tag": "ABX9TyPcjaLtpwxnlETC+XLbB3Wz",
      "include_colab_link": true
    },
    "kernelspec": {
      "name": "python3",
      "display_name": "Python 3"
    },
    "language_info": {
      "name": "python"
    }
  },
  "cells": [
    {
      "cell_type": "markdown",
      "metadata": {
        "id": "view-in-github",
        "colab_type": "text"
      },
      "source": [
        "<a href=\"https://colab.research.google.com/github/karisuma23/ai/blob/main/01HW20220125%EB%82%98%EA%B8%B0%EC%97%8515.ipynb\" target=\"_parent\"><img src=\"https://colab.research.google.com/assets/colab-badge.svg\" alt=\"Open In Colab\"/></a>"
      ]
    },
    {
      "cell_type": "code",
      "execution_count": null,
      "metadata": {
        "colab": {
          "base_uri": "https://localhost:8080/"
        },
        "id": "xz4w6AlKQ_tM",
        "outputId": "12fdfe91-5a8e-40fa-e581-fc314ce139a9"
      },
      "outputs": [
        {
          "output_type": "stream",
          "name": "stdout",
          "text": [
            "Hello world\n"
          ]
        }
      ],
      "source": [
        "#001  \n",
        "print('Hello world')"
      ]
    },
    {
      "cell_type": "code",
      "source": [
        "#002 \n",
        "print(\"mary's cosmetics\")\n",
        "print('mary\\'s cosmetics')"
      ],
      "metadata": {
        "colab": {
          "base_uri": "https://localhost:8080/"
        },
        "id": "sezrUSmeRKNx",
        "outputId": "6b60d72b-bb8c-4bc4-fc93-5209cd5280f4"
      },
      "execution_count": null,
      "outputs": [
        {
          "output_type": "stream",
          "name": "stdout",
          "text": [
            "mary's cosmetics\n",
            "mary's cosmetics\n"
          ]
        }
      ]
    },
    {
      "cell_type": "code",
      "source": [
        "#003\n",
        "print('신씨가 소리질렀다.' \"도둑이야.\")\n",
        "print(\"신씨가 소리질렀다. \\\"도둑이야\\\".\")"
      ],
      "metadata": {
        "colab": {
          "base_uri": "https://localhost:8080/"
        },
        "id": "fAjcllcYR9rI",
        "outputId": "44e6ab6c-a15a-44d4-f767-ad74412f6f99"
      },
      "execution_count": null,
      "outputs": [
        {
          "output_type": "stream",
          "name": "stdout",
          "text": [
            "신씨가 소리질렀다.도둑이야.\n",
            "신씨가 소리질렀다. \"도둑이야\".\n"
          ]
        }
      ]
    },
    {
      "cell_type": "code",
      "source": [
        "#004\n",
        "print('\"c:\\windows\\\"')"
      ],
      "metadata": {
        "colab": {
          "base_uri": "https://localhost:8080/"
        },
        "id": "1XZsDtruS_AX",
        "outputId": "f73179ca-aba1-4725-c440-19e8c2f868e7"
      },
      "execution_count": null,
      "outputs": [
        {
          "output_type": "stream",
          "name": "stdout",
          "text": [
            "\"c:\\windows\"\n"
          ]
        }
      ]
    },
    {
      "cell_type": "code",
      "source": [
        "#005 \n",
        "print(\"안녕하세요.\\n만나서\\t\\t 반갑습니다.\")\n",
        "\n",
        "# \\n = 줄바꿈\n",
        "# \\t = 동일한 간격의 띄어쓰기 "
      ],
      "metadata": {
        "colab": {
          "base_uri": "https://localhost:8080/"
        },
        "id": "DdGXg7NAUUL-",
        "outputId": "9bf0ac6f-6f59-4aff-f9e8-737cd4af2042"
      },
      "execution_count": null,
      "outputs": [
        {
          "output_type": "stream",
          "name": "stdout",
          "text": [
            "안녕하세요.\n",
            "만나서\t\t 반갑습니다.\n"
          ]
        }
      ]
    },
    {
      "cell_type": "code",
      "source": [
        "#006 \n",
        "print(\"오늘은\",\"일요일\")"
      ],
      "metadata": {
        "colab": {
          "base_uri": "https://localhost:8080/"
        },
        "id": "Xa10LaYqVZbn",
        "outputId": "f155e39f-9b0a-42f1-9209-e100bad3ae9e"
      },
      "execution_count": null,
      "outputs": [
        {
          "output_type": "stream",
          "name": "stdout",
          "text": [
            "오늘은 일요일\n"
          ]
        }
      ]
    },
    {
      "cell_type": "code",
      "source": [
        "#007\n",
        "\n",
        "print('naver','kakao','sk','samsung', sep = ';' )\n"
      ],
      "metadata": {
        "colab": {
          "base_uri": "https://localhost:8080/"
        },
        "id": "NYX51V8mVlRD",
        "outputId": "4638d802-c31a-494e-fe4d-5ca4d6f2599e"
      },
      "execution_count": null,
      "outputs": [
        {
          "output_type": "stream",
          "name": "stdout",
          "text": [
            "naver;kakao;sk;samsung\n"
          ]
        }
      ]
    },
    {
      "cell_type": "code",
      "source": [
        "#008\n",
        "print('naver','kakao','samsung', sep = '/' )"
      ],
      "metadata": {
        "colab": {
          "base_uri": "https://localhost:8080/"
        },
        "id": "H03PSA-gXwpT",
        "outputId": "aa601eab-ace4-406b-f088-f6ff60276297"
      },
      "execution_count": null,
      "outputs": [
        {
          "output_type": "stream",
          "name": "stdout",
          "text": [
            "naver/kakao/samsung\n"
          ]
        }
      ]
    },
    {
      "cell_type": "code",
      "source": [
        "#009\n",
        "print('first',end=';')\n",
        "print('second')"
      ],
      "metadata": {
        "colab": {
          "base_uri": "https://localhost:8080/"
        },
        "id": "_kQQO9flYMTE",
        "outputId": "87283539-06ad-4b80-f0f8-55a630c97dd3"
      },
      "execution_count": null,
      "outputs": [
        {
          "output_type": "stream",
          "name": "stdout",
          "text": [
            "first;second\n"
          ]
        }
      ]
    },
    {
      "cell_type": "code",
      "source": [
        "#010\n",
        "n = round(5/3,2)\n",
        "print (n)"
      ],
      "metadata": {
        "colab": {
          "base_uri": "https://localhost:8080/"
        },
        "id": "iMX3kS3YYuJ-",
        "outputId": "8e3f9e68-0440-4560-bc38-d77f418f3ac8"
      },
      "execution_count": null,
      "outputs": [
        {
          "output_type": "stream",
          "name": "stdout",
          "text": [
            "1.67\n"
          ]
        }
      ]
    },
    {
      "cell_type": "code",
      "source": [
        "#011\n",
        "samsung = 50000 \n",
        "avg = 50000 *10 \n",
        "\n",
        "print(\"총 평가 금액 : \" , avg)\n"
      ],
      "metadata": {
        "colab": {
          "base_uri": "https://localhost:8080/"
        },
        "id": "9Ft_535zY1Me",
        "outputId": "3b578e84-bc1c-4705-9095-ee8efb0c7575"
      },
      "execution_count": null,
      "outputs": [
        {
          "output_type": "stream",
          "name": "stdout",
          "text": [
            "총 평가 금액 :  500000\n"
          ]
        }
      ]
    },
    {
      "cell_type": "code",
      "source": [
        "#012\n",
        "sum = '298 조'\n",
        "now = '50,000 원'\n",
        "PER = 15.79"
      ],
      "metadata": {
        "id": "NpEFXm2rZlEB"
      },
      "execution_count": null,
      "outputs": []
    },
    {
      "cell_type": "code",
      "source": [
        "#013\n",
        "s = 'hello'\n",
        "t = 'python'\n",
        "\n",
        "print('%s! %s' % (s,t))"
      ],
      "metadata": {
        "colab": {
          "base_uri": "https://localhost:8080/"
        },
        "id": "XPBC3fCPaFcz",
        "outputId": "244b2e56-05b9-46a2-fbf9-9e1e06c44eb8"
      },
      "execution_count": null,
      "outputs": [
        {
          "output_type": "stream",
          "name": "stdout",
          "text": [
            "hello! python\n"
          ]
        }
      ]
    },
    {
      "cell_type": "code",
      "source": [
        "#014\n",
        "\n",
        "print(2 + 2 * 3)\n",
        "# - 괄호안의 숫자들은 사칙연산 순서대로 진행된다 \n"
      ],
      "metadata": {
        "colab": {
          "base_uri": "https://localhost:8080/"
        },
        "id": "jIrocXZLcxYJ",
        "outputId": "65264acd-d37a-4778-a05a-d10b2c98f9e5"
      },
      "execution_count": null,
      "outputs": [
        {
          "output_type": "stream",
          "name": "stdout",
          "text": [
            "8\n"
          ]
        }
      ]
    },
    {
      "cell_type": "code",
      "source": [
        "#015\n",
        "\n",
        "a = '132'\n",
        "\n",
        "print(type(a))"
      ],
      "metadata": {
        "colab": {
          "base_uri": "https://localhost:8080/"
        },
        "id": "FWzfW1OsdDHA",
        "outputId": "f824d145-f0e8-42e4-99a8-a5d5664c452c"
      },
      "execution_count": null,
      "outputs": [
        {
          "output_type": "stream",
          "name": "stdout",
          "text": [
            "<class 'str'>\n"
          ]
        }
      ]
    },
    {
      "cell_type": "code",
      "source": [
        "#016\n",
        "\n",
        "num_str = '720' \n",
        "\n",
        "n = int(num_str)\n",
        "\n",
        "print(n, type(n))"
      ],
      "metadata": {
        "colab": {
          "base_uri": "https://localhost:8080/"
        },
        "id": "t7qPeHu2dPyf",
        "outputId": "938ab369-a1db-48eb-e944-cedc7d90198b"
      },
      "execution_count": null,
      "outputs": [
        {
          "output_type": "stream",
          "name": "stdout",
          "text": [
            "720 <class 'int'>\n"
          ]
        }
      ]
    },
    {
      "cell_type": "code",
      "source": [
        "#017\n",
        "\n",
        "num = 100\n",
        "\n",
        "n = str(num)\n",
        "\n",
        "print(n, type(n))\n"
      ],
      "metadata": {
        "colab": {
          "base_uri": "https://localhost:8080/"
        },
        "id": "3-Iyg0ZldgPf",
        "outputId": "3bc8b411-5d31-4f4f-ffcb-6de5c898b5e7"
      },
      "execution_count": null,
      "outputs": [
        {
          "output_type": "stream",
          "name": "stdout",
          "text": [
            "100 <class 'str'>\n"
          ]
        }
      ]
    },
    {
      "cell_type": "code",
      "source": [
        "#018\n",
        "\n",
        "num = '15.79'\n",
        "\n",
        "n= float(num)\n",
        "\n",
        "print(n, type(n))\n"
      ],
      "metadata": {
        "colab": {
          "base_uri": "https://localhost:8080/"
        },
        "id": "wuMoDVMHe6m_",
        "outputId": "4ba30cc7-209c-4695-be05-ff88d93df040"
      },
      "execution_count": null,
      "outputs": [
        {
          "output_type": "stream",
          "name": "stdout",
          "text": [
            "15.79 <class 'float'>\n"
          ]
        }
      ]
    },
    {
      "cell_type": "code",
      "source": [
        "#019\n",
        "\n",
        "year= '2020'\n",
        "year1 = '2021'\n",
        "year2 = '2022'\n",
        "\n",
        "a = int(year)\n",
        "b = int(year1)\n",
        "c = int(year2)\n",
        "\n",
        "print('최근 3년의 연도 : %d %d %d' % (a,b,c))\n",
        "\n",
        "print(f'최근 3년의 연도 : {a} {b} {c}')\n",
        "\n",
        "print('최근 3년의 연도 : {} {} {}'.format(a,b,c))\n",
        "\n",
        "print('최근 3년의 연도 :',a,b,c)\n",
        "\n",
        "print(a, type(a))\n",
        "print(b, type(b))\n",
        "print(c, type(c))\n"
      ],
      "metadata": {
        "colab": {
          "base_uri": "https://localhost:8080/"
        },
        "id": "oNch5TNafVO_",
        "outputId": "5d202439-f5d0-43f4-d1c1-9635992d17af"
      },
      "execution_count": null,
      "outputs": [
        {
          "output_type": "stream",
          "name": "stdout",
          "text": [
            "최근 3년의 연도 : 2020 2021 2022\n",
            "최근 3년의 연도 : 2020 2021 2022\n",
            "최근 3년의 연도 : 2020 2021 2022\n",
            "최근 3년의 연도 : 2020 2021 2022\n",
            "2020 <class 'int'>\n",
            "2021 <class 'int'>\n",
            "2022 <class 'int'>\n"
          ]
        }
      ]
    },
    {
      "cell_type": "code",
      "source": [
        "#020\n",
        "\n",
        "month = 36\n",
        "sum = int(48584)\n",
        "total = (sum*month) \n",
        "print('총 금액 : ' ,total , '원입니다')\n",
        "\n"
      ],
      "metadata": {
        "colab": {
          "base_uri": "https://localhost:8080/"
        },
        "id": "tYdlDEE1kufA",
        "outputId": "c11afbd9-5ba6-47b9-f7d4-f5a89a45ccd2"
      },
      "execution_count": null,
      "outputs": [
        {
          "output_type": "stream",
          "name": "stdout",
          "text": [
            "총 금액 :  1749024 원입니다\n"
          ]
        }
      ]
    }
  ]
}