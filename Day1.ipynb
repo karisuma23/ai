{
  "nbformat": 4,
  "nbformat_minor": 0,
  "metadata": {
    "colab": {
      "name": "Day1.ipynb",
      "provenance": [],
      "collapsed_sections": [],
      "authorship_tag": "ABX9TyPgWHK/5ax2+uWG/O8PYk2L",
      "include_colab_link": true
    },
    "kernelspec": {
      "name": "python3",
      "display_name": "Python 3"
    },
    "language_info": {
      "name": "python"
    }
  },
  "cells": [
    {
      "cell_type": "markdown",
      "metadata": {
        "id": "view-in-github",
        "colab_type": "text"
      },
      "source": [
        "<a href=\"https://colab.research.google.com/github/karisuma23/ai/blob/main/Day1.ipynb\" target=\"_parent\"><img src=\"https://colab.research.google.com/assets/colab-badge.svg\" alt=\"Open In Colab\"/></a>"
      ]
    },
    {
      "cell_type": "code",
      "execution_count": 12,
      "metadata": {
        "colab": {
          "base_uri": "https://localhost:8080/",
          "height": 35
        },
        "id": "kv0nJP4XxS8Q",
        "outputId": "87aad6af-4dfd-4103-b2d0-54e379ad72eb"
      },
      "outputs": [
        {
          "output_type": "execute_result",
          "data": {
            "application/vnd.google.colaboratory.intrinsic+json": {
              "type": "string"
            },
            "text/plain": [
              "'\\n 작성자 : 나기업\\n    작성일 : 2022- 01-25\\n    버전 : 0.1 \\n'"
            ]
          },
          "metadata": {},
          "execution_count": 12
        }
      ],
      "source": [
        "#############\n",
        "# 주석 comment  \n",
        "#############\n",
        "''' 작성자 : 나기업\n",
        "    작성일 : 2022- 01-25\n",
        "    버전 : 0.1\n",
        "    Doc String \n",
        "'''\n",
        "\n",
        "\n",
        "\"\"\"\n",
        " 작성자 : 나기업\n",
        "    작성일 : 2022- 01-25\n",
        "    버전 : 0.1 \n",
        "\"\"\"\n",
        "\n",
        "\n",
        "# 보통 삼중 따옴표 주석은 \n",
        "# 여러줄을 주석으로 사용할 때 \n",
        "# 사용한다. \n",
        "\n",
        "\n",
        "# 주석 붙이는 위치 \n",
        "\n",
        "# print('hello world') # 보통 행의 우측 또는 위에 주석을 붙인다.\n"
      ]
    },
    {
      "cell_type": "code",
      "source": [
        "#############\n",
        "# 변수 variable  \n",
        "#############\n",
        "\n",
        "score = 200 \n",
        "\n",
        "print(score)\n",
        "\n",
        "score = 300 \n",
        "\n",
        "print(score)"
      ],
      "metadata": {
        "id": "YhuaJ80aBw14"
      },
      "execution_count": null,
      "outputs": []
    },
    {
      "cell_type": "code",
      "source": [
        "a = 1\n",
        "A = 2\n",
        "\n",
        "print(a)\n",
        "print(A)"
      ],
      "metadata": {
        "id": "8UJwRn4aB55t"
      },
      "execution_count": null,
      "outputs": []
    },
    {
      "cell_type": "code",
      "source": [
        "a1 = 'h1'\n",
        "print(A1)"
      ],
      "metadata": {
        "colab": {
          "base_uri": "https://localhost:8080/"
        },
        "id": "S5GQd1qaCAgQ",
        "outputId": "8df0ec34-693c-4c0f-9934-cedae8a82285"
      },
      "execution_count": 13,
      "outputs": [
        {
          "output_type": "stream",
          "name": "stdout",
          "text": [
            "h1\n"
          ]
        }
      ]
    },
    {
      "cell_type": "code",
      "source": [
        "1a = 'hi'\n",
        "print(1a)"
      ],
      "metadata": {
        "id": "45zuhAygCBGD"
      },
      "execution_count": null,
      "outputs": []
    },
    {
      "cell_type": "code",
      "source": [
        "a = 20 \n",
        "b = 1500 \n",
        "\n",
        "student_avg = 20\n",
        "math_sum = 1500 "
      ],
      "metadata": {
        "id": "grXrnru0CDOh"
      },
      "execution_count": null,
      "outputs": []
    },
    {
      "cell_type": "code",
      "source": [
        " name = 'Alice'\n",
        " age = 25\n",
        " address = '''우편번호12345\n",
        " 서울시 영등포구 여의도동\n",
        " 서울빌딩 501호'''\n",
        " boyfriend = None\n",
        " height = 168.5\n",
        "\n",
        " print(name)\n",
        " print(age)\n",
        " print(address)\n",
        " print(boyfriend)\n",
        " print(height)\n",
        " "
      ],
      "metadata": {
        "colab": {
          "base_uri": "https://localhost:8080/"
        },
        "id": "oUF-5w6ECoy9",
        "outputId": "454e12f7-1a6d-4f0a-adac-8a63f1ae61fe"
      },
      "execution_count": 14,
      "outputs": [
        {
          "output_type": "stream",
          "name": "stdout",
          "text": [
            "Alice\n",
            "25\n",
            "우편번호12345\n",
            "서울시 영등포구 여의도동\n",
            "서울빌딩 501호\n",
            "None\n",
            "168.5\n"
          ]
        }
      ]
    },
    {
      "cell_type": "code",
      "source": [
        "#############\n",
        "#기본 자료형 type   \n",
        "#############\n",
        "\n",
        "a = int(1.9)\n",
        "print(a)\n",
        "\n",
        "b = int(True)\n",
        "print(b)\n",
        "\n",
        "c = int(False)\n",
        "print(c)\n",
        "\n",
        "d = int('100')\n",
        "print(d)\n",
        "\n"
      ],
      "metadata": {
        "id": "lL7V2oIMDtWS"
      },
      "execution_count": null,
      "outputs": []
    },
    {
      "cell_type": "code",
      "source": [
        "a = 100\n",
        "b = '100'\n",
        "\n",
        "print(type(a))\n",
        "print(type(b))\n",
        "\n",
        "print(a)\n",
        "print(b)\n",
        "print(a==b)\n",
        "\n",
        "c = int(b)\n",
        "print(type(c))\n",
        "print(a==c)"
      ],
      "metadata": {
        "colab": {
          "base_uri": "https://localhost:8080/"
        },
        "id": "AlP0XaH3F0za",
        "outputId": "e602d965-6a62-4223-c95e-59293dd75d01"
      },
      "execution_count": 22,
      "outputs": [
        {
          "output_type": "stream",
          "name": "stdout",
          "text": [
            "<class 'int'>\n",
            "<class 'str'>\n",
            "100\n",
            "100\n",
            "False\n",
            "<class 'int'>\n",
            "True\n"
          ]
        }
      ]
    },
    {
      "cell_type": "code",
      "source": [
        "# 실수 float \n",
        "\n",
        "a = float(1)\n",
        "print(a)\n",
        "\n",
        "b = float(True)\n",
        "print(b)\n",
        "\n",
        "c = float('3.14')\n",
        "print(c)\n",
        "\n",
        "d= float('100')\n",
        "print(d)"
      ],
      "metadata": {
        "id": "qui-yylxGYrE"
      },
      "execution_count": null,
      "outputs": []
    },
    {
      "cell_type": "code",
      "source": [
        "#  boolean 논리 true or false\n",
        "\n",
        "a = bool(0)\n",
        "print(a)\n",
        "\n",
        "b = bool()\n",
        "print(b)\n",
        "\n",
        "c = bool([])\n",
        "print(c)\n",
        "\n",
        "d = bool([100])\n",
        "print(d)"
      ],
      "metadata": {
        "colab": {
          "base_uri": "https://localhost:8080/"
        },
        "id": "B9z31DigOzY9",
        "outputId": "b0b5bd13-37de-46f0-f693-6543dac23517"
      },
      "execution_count": 39,
      "outputs": [
        {
          "output_type": "stream",
          "name": "stdout",
          "text": [
            "False\n",
            "False\n",
            "False\n",
            "True\n"
          ]
        }
      ]
    },
    {
      "cell_type": "code",
      "source": [
        "##################\n",
        "# 문자열 String\n",
        "#################\n",
        "\n",
        "a = '대한민국'\n",
        "b = \"대한민국\"\n",
        "\n",
        "b = str(100)\n",
        "print(b)\n",
        "print(type(b))\n",
        "\n",
        "c = str(True)\n",
        "print(c)\n",
        "print(type(c))"
      ],
      "metadata": {
        "colab": {
          "base_uri": "https://localhost:8080/"
        },
        "id": "HmW2Fzk6bUD8",
        "outputId": "c0b533d9-8c9e-4007-d9cc-ae423c8db8c9"
      },
      "execution_count": 43,
      "outputs": [
        {
          "output_type": "stream",
          "name": "stdout",
          "text": [
            "100\n",
            "<class 'str'>\n",
            "True\n",
            "<class 'str'>\n"
          ]
        }
      ]
    },
    {
      "cell_type": "code",
      "source": [
        "# 문자열 인덱싱\n",
        "\n",
        "# hello 파이썬은 0에서 시작한다 : 0~4 \n",
        "\n",
        "s = 'hello'\n",
        "print(s[4])\n",
        "print(s[-5]==s[0])\n",
        "print(s[0:3])\n",
        "\n",
        "ss ='900212-1222341'\n",
        "\n",
        "print(ss[7])\n",
        "\n",
        "\n"
      ],
      "metadata": {
        "colab": {
          "base_uri": "https://localhost:8080/"
        },
        "id": "tQM-BJB-b7IN",
        "outputId": "6c9b8687-f686-4bb1-9fe9-7c54fb181761"
      },
      "execution_count": 55,
      "outputs": [
        {
          "output_type": "stream",
          "name": "stdout",
          "text": [
            "o\n",
            "True\n",
            "hel\n",
            "1\n"
          ]
        }
      ]
    },
    {
      "cell_type": "code",
      "source": [
        "# 슬라이스 인덱싱\n",
        "ss ='900212-1222341'\n",
        "print(ss[0:2]) # 0번부터 1번까지 \n",
        "print(ss[0:2]) # step은 생략가능\n",
        "print(ss[0:10:2])"
      ],
      "metadata": {
        "id": "BVOup5H3fV5T"
      },
      "execution_count": null,
      "outputs": []
    },
    {
      "cell_type": "code",
      "source": [
        "#print \n",
        "\n",
        "print('Hello 'world')\n"
      ],
      "metadata": {
        "id": "NECubhxrgTEB"
      },
      "execution_count": null,
      "outputs": []
    },
    {
      "cell_type": "code",
      "source": [
        "print(\"Hello 'world'\")"
      ],
      "metadata": {
        "colab": {
          "base_uri": "https://localhost:8080/"
        },
        "id": "BE-mm6p5hDsv",
        "outputId": "d2a28612-8dfc-45e8-d176-129437ac8c40"
      },
      "execution_count": 56,
      "outputs": [
        {
          "output_type": "stream",
          "name": "stdout",
          "text": [
            "Hello 'world'\n"
          ]
        }
      ]
    },
    {
      "cell_type": "code",
      "source": [
        "print('Hello \\'world\\'')\n",
        "print(\"Hello \\\"world\\\"\")\n",
        "print('Hello \\'world\\\"')\n"
      ],
      "metadata": {
        "colab": {
          "base_uri": "https://localhost:8080/"
        },
        "id": "2iL596aJhK5f",
        "outputId": "1fbe400d-0755-4d4e-ca70-ab3bcae28d51"
      },
      "execution_count": 61,
      "outputs": [
        {
          "output_type": "stream",
          "name": "stdout",
          "text": [
            "Hello 'world'\n",
            "Hello \"world\"\n",
            "Hello 'world\"\n"
          ]
        }
      ]
    },
    {
      "cell_type": "code",
      "source": [
        "print(\"Hello\\n \\\"world\\\"\")"
      ],
      "metadata": {
        "colab": {
          "base_uri": "https://localhost:8080/"
        },
        "id": "1i1z2z83iF1P",
        "outputId": "9b27ceab-16bd-42d8-addb-8bf26b8b7693"
      },
      "execution_count": 64,
      "outputs": [
        {
          "output_type": "stream",
          "name": "stdout",
          "text": [
            "Hello\n",
            " \"world\"\n"
          ]
        }
      ]
    },
    {
      "cell_type": "code",
      "source": [
        "print('이름 \\n전화')"
      ],
      "metadata": {
        "colab": {
          "base_uri": "https://localhost:8080/"
        },
        "id": "BnYGM2dCicmr",
        "outputId": "9ea0b4db-dd45-4965-d2ee-89eef7e23dfd"
      },
      "execution_count": 66,
      "outputs": [
        {
          "output_type": "stream",
          "name": "stdout",
          "text": [
            "이름 \n",
            "전화\n"
          ]
        }
      ]
    },
    {
      "cell_type": "code",
      "source": [
        "print('이름\\t연락처')\n",
        "print('홍길동\\t010-2020-2903')"
      ],
      "metadata": {
        "colab": {
          "base_uri": "https://localhost:8080/"
        },
        "id": "BAQUHV7Xis3_",
        "outputId": "ea7dc600-f77c-4e21-8260-82b662babaa9"
      },
      "execution_count": 68,
      "outputs": [
        {
          "output_type": "stream",
          "name": "stdout",
          "text": [
            "이름\t연락처\n",
            "홍길동\t010-2020-2903\n"
          ]
        }
      ]
    },
    {
      "cell_type": "code",
      "source": [
        "print('재미있는 ',' 파이썬')"
      ],
      "metadata": {
        "colab": {
          "base_uri": "https://localhost:8080/"
        },
        "id": "OxtLbK2KjWWw",
        "outputId": "3e37c355-111c-4b98-e4f8-3298f7b59ddd"
      },
      "execution_count": 69,
      "outputs": [
        {
          "output_type": "stream",
          "name": "stdout",
          "text": [
            "재미있는   파이썬\n"
          ]
        }
      ]
    },
    {
      "cell_type": "code",
      "source": [
        "print('평점',end=':')\n",
        "print('5점')\n"
      ],
      "metadata": {
        "colab": {
          "base_uri": "https://localhost:8080/"
        },
        "id": "uy2RYWVGjpR-",
        "outputId": "eacca00c-f423-493d-e269-feef988fd24e"
      },
      "execution_count": 72,
      "outputs": [
        {
          "output_type": "stream",
          "name": "stdout",
          "text": [
            "평점:5점\n"
          ]
        }
      ]
    },
    {
      "cell_type": "code",
      "source": [
        "print('국어','영어','수학')\n",
        "print('국어','영어','수학', sep = '/' )\n",
        "print('국어','영어','수학', sep = ',')\n",
        "print('국어','영어','수학', sep = '\\n')\n",
        "print('\\n국어\\n영어\\n수학')"
      ],
      "metadata": {
        "id": "vxXeFJSxogPd"
      },
      "execution_count": null,
      "outputs": []
    },
    {
      "cell_type": "code",
      "source": [
        "# %연산자 \n",
        "\n",
        "print(10)\n",
        "print('%d' % 10)  # %d decimal 정수\n",
        "print('%f' % 3.14)  # %f float 실수\n",
        "print('%s' % '학생') # %s String 문자열 \n",
        "\n",
        "print('%d 을 입력하세요' % 10)\n",
        "print('%s 을 입력하세요' % 10)  \n",
        "print('원주율은 %f 입니다 ' % 3.14)  \n",
        "print('원주율은 %s 입니다 ' % 3.14)  \n",
        "std = '고등학생'\n",
        "print('저는 %s 입니다 '  % std) \n",
        "print('저는', std, '입니다')"
      ],
      "metadata": {
        "colab": {
          "base_uri": "https://localhost:8080/"
        },
        "id": "0nojg6xPqNfM",
        "outputId": "6dfa2e4a-0896-4515-90ea-ded19a59f662"
      },
      "execution_count": 92,
      "outputs": [
        {
          "output_type": "stream",
          "name": "stdout",
          "text": [
            "10\n",
            "10\n",
            "3.140000\n",
            "학생\n",
            "10 을 입력하세요\n",
            "10 을 입력하세요\n",
            "원주율은 3.140000 입니다 \n",
            "원주율은 3.14 입니다 \n",
            "저는 고등학생 입니다 \n",
            "저는 고등학생 입니다\n"
          ]
        }
      ]
    },
    {
      "cell_type": "code",
      "source": [
        "print(\"%d\" % 1 )\n",
        "print(\"%5d\" % 1 ) # 5자리를 확보해서 오른쪽에 찍어라 \n",
        "print(\"%-5d\" % 1 ) \n",
        "print(\"%5d\" % 11 )\n",
        "print(\"%-5d\" % 11 )"
      ],
      "metadata": {
        "colab": {
          "base_uri": "https://localhost:8080/"
        },
        "id": "NLqnzt_htP6h",
        "outputId": "d0878a5b-94a8-49ff-ad5b-5c55446a9498"
      },
      "execution_count": 98,
      "outputs": [
        {
          "output_type": "stream",
          "name": "stdout",
          "text": [
            "1\n",
            "    1\n",
            "1    \n",
            "   11\n",
            "11   \n"
          ]
        }
      ]
    },
    {
      "cell_type": "code",
      "source": [
        "print('원주율은 %f 입니다' % 3.14)\n",
        "print('원주율은 %5.1f 입니다' % 3.14)\n",
        "print('원주율은 %-5.1f 입니다' % 3.14)\n",
        "print('원주율은 %.2f 입니다' % 3.14)"
      ],
      "metadata": {
        "colab": {
          "base_uri": "https://localhost:8080/"
        },
        "id": "DzVG6Y6ut9TC",
        "outputId": "39d11c46-3790-4d8b-e23f-ca215b8ca9aa"
      },
      "execution_count": 105,
      "outputs": [
        {
          "output_type": "stream",
          "name": "stdout",
          "text": [
            "원주율은 3.140000 입니다\n",
            "원주율은   3.1 입니다\n",
            "원주율은 3.1   입니다\n",
            "원주율은 3.14 입니다\n"
          ]
        }
      ]
    },
    {
      "cell_type": "code",
      "source": [
        "name = 'kai'\n",
        "print('내이름은 %s 입니다' % name)"
      ],
      "metadata": {
        "colab": {
          "base_uri": "https://localhost:8080/"
        },
        "id": "0XkFYwytvQRE",
        "outputId": "899392f1-bb54-481f-bd6e-2ff416e0675c"
      },
      "execution_count": 107,
      "outputs": [
        {
          "output_type": "stream",
          "name": "stdout",
          "text": [
            "내이름은 kai 입니다\n"
          ]
        }
      ]
    },
    {
      "cell_type": "code",
      "source": [
        "height = 185.5\n",
        "print('내 키는 %.1f' % height)\n",
        "print('내 키는 %s' % height)\n",
        "print('내 키는 %s이고 이름은 %s입니다' %(height,name))\n",
        "print('내 키는 {}이고 이름은 {}입니다' .format(height,name))"
      ],
      "metadata": {
        "colab": {
          "base_uri": "https://localhost:8080/"
        },
        "id": "2rP0aMCrvbVf",
        "outputId": "bf86571e-ebec-489d-9ef3-39b5af60d99d"
      },
      "execution_count": 119,
      "outputs": [
        {
          "output_type": "stream",
          "name": "stdout",
          "text": [
            "내 키는 185.5\n",
            "내 키는 185.5\n",
            "내 키는 185.5이고 이름은 kai입니다\n",
            "내 키는 185.5이고 이름은 kai입니다\n"
          ]
        }
      ]
    },
    {
      "cell_type": "code",
      "source": [
        "#format() \n",
        "\n",
        "zipcode = '06236'\n",
        "print('우편번호 : %s' % zipcode)\n",
        "print('우편번호 : {}'.format(zipcode))\n",
        "print(f'우편번호 : {zipcode}')"
      ],
      "metadata": {
        "colab": {
          "base_uri": "https://localhost:8080/"
        },
        "id": "JNWhvPIVwDy-",
        "outputId": "eb8bd53f-3596-4df1-c83e-f6253e1bd767"
      },
      "execution_count": 125,
      "outputs": [
        {
          "output_type": "stream",
          "name": "stdout",
          "text": [
            "우편번호 : 06236\n",
            "우편번호 : 06236\n",
            "우편번호 : 06236\n"
          ]
        }
      ]
    },
    {
      "cell_type": "markdown",
      "source": [
        ""
      ],
      "metadata": {
        "id": "HAQj7ZKf2Tkf"
      }
    },
    {
      "cell_type": "code",
      "source": [
        "print('My name is {}. I\\'m {} years old'.format('james',25))\n",
        "print('My name is {1}. I\\'m {0} years old'.format(25,'james'))\n",
        "print('My name is {name}. I\\'m {age} years old'.format(age = 25,name = 'james'))"
      ],
      "metadata": {
        "colab": {
          "base_uri": "https://localhost:8080/"
        },
        "id": "np4wrA9816Wm",
        "outputId": "635dbb03-d962-45a1-9419-5ad3265f1f1f"
      },
      "execution_count": 128,
      "outputs": [
        {
          "output_type": "stream",
          "name": "stdout",
          "text": [
            "My name is james. I'm 25 years old\n",
            "My name is james. I'm 25 years old\n",
            "My name is james. I'm 25 years old\n",
            "My name is kai. I'm 25 years old\n"
          ]
        }
      ]
    },
    {
      "cell_type": "code",
      "source": [
        "#f-strings\n",
        "# 파이썬 3.6 이후 부터 사용 가능\n",
        "\n",
        "who = 'you'\n",
        "how = 'happy'\n",
        "print(f'{who} make me {how}')"
      ],
      "metadata": {
        "colab": {
          "base_uri": "https://localhost:8080/"
        },
        "id": "28b-TtlW24m-",
        "outputId": "1599d94b-ef2c-44a3-9a73-204ded67df9e"
      },
      "execution_count": 129,
      "outputs": [
        {
          "output_type": "stream",
          "name": "stdout",
          "text": [
            "you make me happy\n"
          ]
        }
      ]
    },
    {
      "cell_type": "code",
      "source": [
        "age = 29\n",
        "print(f'내년에는 {age + 1} 입니다')"
      ],
      "metadata": {
        "colab": {
          "base_uri": "https://localhost:8080/"
        },
        "id": "29TIeMRU3pBQ",
        "outputId": "7428c554-b6a7-4417-dc00-3892965dbf58"
      },
      "execution_count": 131,
      "outputs": [
        {
          "output_type": "stream",
          "name": "stdout",
          "text": [
            "내년에는 30 입니다\n"
          ]
        }
      ]
    },
    {
      "cell_type": "code",
      "source": [
        "##################\n",
        "# 입력 input()  \n",
        "################\n",
        "\n",
        "n = input('당신의 나이를 입력하세요')\n",
        "print(f'당신이 나이는 {n} 입니다 ')\n",
        "print('당신이 나이는', n ,'입니다') "
      ],
      "metadata": {
        "colab": {
          "base_uri": "https://localhost:8080/"
        },
        "id": "Xi1bG7pP4VfR",
        "outputId": "94c12b01-3cdb-4aa0-da23-810a1614dfb7"
      },
      "execution_count": 141,
      "outputs": [
        {
          "output_type": "stream",
          "name": "stdout",
          "text": [
            "당신의 나이를 입력하세요 20\n",
            "당신이 나이는  20 입니다 \n",
            "당신이 나이는  20 입니다\n"
          ]
        }
      ]
    },
    {
      "cell_type": "code",
      "source": [
        "name = input('당신의 이름을 입력하세요')\n",
        "age = int(input('당신의 나이를 입력하세요'))\n",
        "\n",
        "# 1 기본 \n",
        "print('당신의 이름은',name,'이고  당신의 나이는',age,' 입니다.')\n",
        "\n",
        "#2 f-stirng\n",
        "print(f'당신의 이름은 {name} 이고 당신의 나이는 {age} 입니다')\n",
        "\n",
        "#3 format()\n",
        "print('당신의 이름은 {} 이고 당신의 나이는 {} 입니다.'.format(name,age))\n",
        "\n",
        "#4 % 연산자 \n",
        "print('당신의 이름은 %s이고 나이는  %d입니다.' % (name,age))\n",
        "\n",
        "print(name, type(name))\n",
        "print(age, type(age))\n"
      ],
      "metadata": {
        "colab": {
          "base_uri": "https://localhost:8080/"
        },
        "id": "NHu9yEVu5klW",
        "outputId": "146e6dea-9279-4b3d-9267-668ff95283e8"
      },
      "execution_count": 179,
      "outputs": [
        {
          "output_type": "stream",
          "name": "stdout",
          "text": [
            "당신의 이름을 입력하세요 나기업\n",
            "당신의 나이를 입력하세요 29\n",
            "당신의 이름은  나기업 이고  나이는 29  입니다.\n",
            "당신의 이름은  나기업 이고 당신의 나이는 29 입니다\n",
            "당신의 이름은  나기업 이고 당신의 나이는 29 입니다.\n",
            "당신의 이름은  나기업이고 나이는  29입니다.\n",
            " 나기업 <class 'str'>\n",
            "29 <class 'int'>\n"
          ]
        }
      ]
    },
    {
      "cell_type": "code",
      "source": [
        "month = int(input('할부 개월 입력 : '))\n",
        "sum = 50000\n",
        "price = round(sum / month.2)\n",
        "\n",
        "# 1 기본\n",
        "print(month ,'개월 동안 매달 내는 금액은' ,price,  '원입니다')\n",
        "#2 f-stirng\n",
        "print(f'{month} 개월 동안 매달 내는 금액은 {price}  원입니다 ')\n",
        "#3 format()\n",
        "print('{}개월 동안 매달 내는 금액은{}원 입니다'.format(month,price))\n",
        "#4 % 연산자 \n",
        "print('%d개월 동안 매달내는 금액은%s원 입니다' %(month,price))\n"
      ],
      "metadata": {
        "id": "E8VWZHAz91rs"
      },
      "execution_count": null,
      "outputs": []
    },
    {
      "cell_type": "code",
      "source": [
        "a = float(input('실수 1 의 값을 입력하시오 :' ))\n",
        "b = float(input('실수 2의 값을 입력하시오: '))\n",
        "sum = a + b\n",
        "print(f'실수 {a} 과 실수 {b}의 합계는 {sum}입니다')"
      ],
      "metadata": {
        "colab": {
          "base_uri": "https://localhost:8080/"
        },
        "id": "pQphwfqbFJ5q",
        "outputId": "54670f3a-430a-4601-ac48-1f4920a41549"
      },
      "execution_count": 174,
      "outputs": [
        {
          "output_type": "stream",
          "name": "stdout",
          "text": [
            "실수 1 의 값을 입력하시오 :1.0\n",
            "실수 2의 값을 입력하시오: 2.0\n",
            "실수 1.0 과 실수 2.0의 합계는 3.0입니다\n"
          ]
        }
      ]
    }
  ]
}