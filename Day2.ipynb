{
 "cells": [
  {
   "cell_type": "markdown",
   "metadata": {
    "colab_type": "text",
    "id": "view-in-github"
   },
   "source": [
    "<a href=\"https://colab.research.google.com/github/karisuma23/ai/blob/main/Day2.ipynb\" target=\"_parent\"><img src=\"https://colab.research.google.com/assets/colab-badge.svg\" alt=\"Open In Colab\"/></a>"
   ]
  },
  {
   "cell_type": "code",
   "execution_count": null,
   "metadata": {
    "colab": {
     "base_uri": "https://localhost:8080/"
    },
    "id": "RAM9JbCFb3dV",
    "outputId": "ab892408-aaf2-45fb-d377-f865d61cffba"
   },
   "outputs": [
    {
     "name": "stdout",
     "output_type": "stream",
     "text": [
      "Hello world\n"
     ]
    }
   ],
   "source": [
    "#######################\n",
    "# Review \n",
    "######################\n",
    "\n",
    "# comment 주석 -  코드에 대한 설명, 컴퓨터는 읽지않고 사람만 \n",
    "#   읽는 내용, 또 다른 용법으로는 코드를 임시로\n",
    "#   실행하지 않고 감추고 에러를 확인하는 용도로도 사용된다. \n",
    "#   본인이 기록한 내용을 나중에 확인할 떄 또는 다른 팀원이\n",
    "#   작성한 내용을 파악하기 용이하게 만든다.\n",
    "\n",
    "# #을 사용하여 주석을 표시한다\n",
    "\n",
    "# doc string(주석의 용도로도 쓰이는...) \n",
    "'''\n",
    "\"\"\" \n",
    "작성일 : 2022/01/26\n",
    "담당자 : 나기업\n",
    "비고   : austiny@gatech.edu \n",
    "\"\"\"\n",
    "'''\n",
    "print('Hello world') # 코드의 우측 또는 윗줄에 적는다\n",
    "\n",
    "\n"
   ]
  },
  {
   "cell_type": "code",
   "execution_count": null,
   "metadata": {
    "colab": {
     "base_uri": "https://localhost:8080/"
    },
    "id": "DCPCzDHOw6_5",
    "outputId": "cf7f5ee9-2812-4ee3-f72e-5dabcd05e08c"
   },
   "outputs": [
    {
     "name": "stdout",
     "output_type": "stream",
     "text": [
      "100\n"
     ]
    }
   ],
   "source": [
    "# 변수 variable  \n",
    "# 어떤 값을 저장하는 저장소 (a-)\n",
    "a = 100 \n",
    "print(a)\n",
    "\n",
    "stumath = 350\n",
    "stu_math = 350 #스네이크 케이스 snake_kase \n",
    "StuMathSum = 350 # 캐멀 케이스  small_kase\n"
   ]
  },
  {
   "cell_type": "code",
   "execution_count": null,
   "metadata": {
    "id": "0DuweARGy3si"
   },
   "outputs": [],
   "source": [
    "# 1a = 100 숫자가 먼저 올수 없다.\n",
    "a1 = 100\n"
   ]
  },
  {
   "cell_type": "code",
   "execution_count": null,
   "metadata": {
    "id": "5S5fmbrdy-cB"
   },
   "outputs": [],
   "source": [
    "_a = 100\n",
    "# @a = 100 "
   ]
  },
  {
   "cell_type": "code",
   "execution_count": null,
   "metadata": {
    "id": "JSsyYn2qzQ-J"
   },
   "outputs": [],
   "source": [
    "홍길동 = 55\n",
    "# 한글 변수명 사용이 가능하지만 쓰지 말자."
   ]
  },
  {
   "cell_type": "code",
   "execution_count": null,
   "metadata": {
    "colab": {
     "base_uri": "https://localhost:8080/"
    },
    "id": "ZusaG8HRzUnO",
    "outputId": "83fbe98e-a969-4679-cfc3-5cc3f33f5e2d"
   },
   "outputs": [
    {
     "name": "stdout",
     "output_type": "stream",
     "text": [
      "r\n",
      "d\n",
      "d\n",
      "2\n",
      "강남구\n"
     ]
    }
   ],
   "source": [
    "# 인덱싱 (슬라이싱) \n",
    "\n",
    "s = 'world'\n",
    "print(s[2])#파이썬은 인덱스 시작이 0이다.\n",
    "print(s[-1])# -1은 마지막 인덱스를 가리킨다.\n",
    "print(s[4])\n",
    "\n",
    "\n",
    "ss = '900101-2547389'\n",
    "print(ss[7]) # 하나만 추출할떄는 indexing\n",
    "addr = '서울시 강남구 역삼동 1번지'\n",
    "print(addr[4:7]) # 여러개를 추출할때는 slicing"
   ]
  },
  {
   "cell_type": "code",
   "execution_count": null,
   "metadata": {
    "colab": {
     "base_uri": "https://localhost:8080/"
    },
    "id": "oHdVLscI1Vco",
    "outputId": "769bd876-7f86-4618-82c5-a47048a723f9"
   },
   "outputs": [
    {
     "name": "stdout",
     "output_type": "stream",
     "text": [
      "좋은 아침입니다.\n"
     ]
    }
   ],
   "source": [
    "# print()\n",
    "\n",
    "print('좋은 아침입니다.')\n"
   ]
  },
  {
   "cell_type": "code",
   "execution_count": null,
   "metadata": {
    "colab": {
     "base_uri": "https://localhost:8080/"
    },
    "id": "SIWgfOgJ1iTx",
    "outputId": "738386d5-46db-4c15-a312-e9d6336c7a45"
   },
   "outputs": [
    {
     "name": "stdout",
     "output_type": "stream",
     "text": [
      "좋은 아침 입니다.\n",
      "좋은 아침 입니다.\n",
      "좋은 아침 입니다.\n",
      "좋은 아침 입니다.\n"
     ]
    }
   ],
   "source": [
    "when = '아침'\n",
    "print('좋은',when,'입니다.')\n",
    "print('좋은 %s 입니다.' % when)\n",
    "print('좋은 {} 입니다.'.format(when))\n",
    "\n",
    "\n",
    "print(f'좋은 {when} 입니다.') #*****"
   ]
  },
  {
   "cell_type": "code",
   "execution_count": null,
   "metadata": {
    "colab": {
     "base_uri": "https://localhost:8080/"
    },
    "id": "mJbEhVx39Bwz",
    "outputId": "f8222e2b-47b0-4d9d-b510-d2340a501df8"
   },
   "outputs": [
    {
     "name": "stdout",
     "output_type": "stream",
     "text": [
      "[1, 2, 3, 4, 5]\n",
      "[1, 2, 3, ['대한', '민국', True, False]]\n",
      "[80, 90, 70, 60]\n",
      "[60, 70, 80, 90]\n",
      "[100, 70, 80, 90]\n",
      "[100, 70, 80, 100]\n",
      "list_a = [1, 2, 3]\n",
      "list_b = [4, 5, 6]\n",
      "[1, 2, 3, 4, 5, 6]\n",
      "[1, 2, 3, 1, 2, 3, 1, 2, 3]\n",
      "3\n"
     ]
    }
   ],
   "source": [
    "########################\n",
    "# 리스트 List  튜플 Tuple  딕셔너리 Dic  셋 Set \n",
    "########################\n",
    "# 여러개의 값을 한번에 저장하는 자료형이 필요하다.\n",
    "\n",
    "# 리스트 List \n",
    "# 지금까지 사용한 숫자1, 문자1등 개별적, 독립적인 자료가 아닌\n",
    "# 리스트는 이러한 자료들 여러개를 모아서 사용할 수 있게 해준다.\n",
    "# 리스트에 넣는 자료를 요소elemnet 라고한다. \n",
    "\n",
    "\n",
    "# 리스트는 []로 구성한다. \n",
    "list = [1,2,3,4,5]\n",
    "\n",
    "print(list)\n",
    "# 리스트는 다양한 자료형의 데이터를 한번에 담을 수 있다.\n",
    "# (BUT, 하나의 리스트에는 한가지 자료형만 저장하는 것이 오히려 바람직하다)\n",
    "list = [1,2,3,['대한','민국',True,False]]\n",
    "list[-1][0:2]\n",
    "print(list)\n",
    "score = [80,90,70,60]\n",
    "print(score)\n",
    "# 리스트 와 튜플은 인덱싱indexing 과 슬라이싱slicing이 가능하다. \n",
    "score[0]# 파이썬은 0부터 시작한다. \n",
    "score[0:2] # 슬라이싱은 0부터 2미만..처럼 끝은 미만을 나타낸다\n",
    "score.sort()\n",
    "print(score)\n",
    "\n",
    "#리스트는 수정/삭제 가 가능하다.(mutable , 튜플은 immutable)\n",
    "score[0] = 100\n",
    "print(score)\n",
    "score[-1] =100\n",
    "print(score)\n",
    "\n",
    "# score[4]  #  indexerror 아주 많이 접하게 될 에러(주의)\n",
    "\n",
    "# 리스트는 연산이 가능하다.\n",
    "list_a = [1,2,3]\n",
    "list_b = [4,5,6]\n",
    "\n",
    "print('list_a =',list_a)\n",
    "print('list_b =',list_b)\n",
    "print(list_a +list_b)\n",
    "print(list_a * 3)\n",
    "print(len(list_a)) # 길이를 구하는 함수 "
   ]
  },
  {
   "cell_type": "code",
   "execution_count": null,
   "metadata": {
    "colab": {
     "base_uri": "https://localhost:8080/"
    },
    "id": "HMk453OEFX0W",
    "outputId": "a21612e1-cfb0-4e10-f060-c5603f3a2f18"
   },
   "outputs": [
    {
     "name": "stdout",
     "output_type": "stream",
     "text": [
      "[100, 70, 80, 100]\n",
      "[100, 70, 80, 100, 60]\n",
      "[100, 70, 80, 100, 60, 70]\n"
     ]
    }
   ],
   "source": [
    "# 리스트에 많이 사용되는 함수들...\n",
    "# append (*****) 리스트에 요소를 추가할 때 끝에만 추가\n",
    "\n",
    "print(score)\n",
    "score.append(60)\n",
    "print(score)\n",
    "score.append(70)\n",
    "print(score)\n"
   ]
  },
  {
   "cell_type": "code",
   "execution_count": null,
   "metadata": {
    "colab": {
     "base_uri": "https://localhost:8080/"
    },
    "id": "6JBflOQRJFWe",
    "outputId": "3ef6e983-ae95-4bf3-80cc-0838c6b30384"
   },
   "outputs": [
    {
     "name": "stdout",
     "output_type": "stream",
     "text": [
      "[10]\n",
      "[10, 50]\n"
     ]
    }
   ],
   "source": [
    "# insert() 리스트에 요소를 추가할 때 사용, 특정 위치를 지정하여 추가\n",
    "list = []\n",
    "list.insert(0, 10)\n",
    "print(list)\n",
    "\n",
    "list.insert(1, 50)\n",
    "print(list)"
   ]
  },
  {
   "cell_type": "code",
   "execution_count": null,
   "metadata": {
    "colab": {
     "base_uri": "https://localhost:8080/"
    },
    "id": "8-XZoHw-KSoy",
    "outputId": "2445d4ac-aaa1-4fc6-894f-152a67639a5f"
   },
   "outputs": [
    {
     "name": "stdout",
     "output_type": "stream",
     "text": [
      "[1, 2, 3, 4, 5, 6]\n"
     ]
    }
   ],
   "source": [
    "list_a = [1,2,3]\n",
    "list_a.extend([4,5,6]) \n",
    "print(list_a) # 파괴적 처리 "
   ]
  },
  {
   "cell_type": "code",
   "execution_count": null,
   "metadata": {
    "colab": {
     "base_uri": "https://localhost:8080/"
    },
    "id": "QV_h7eGBKocP",
    "outputId": "e95f62f2-0b10-48ba-9bf1-c076a325006f"
   },
   "outputs": [
    {
     "name": "stdout",
     "output_type": "stream",
     "text": [
      "[1, 2, 3, 4, 5, 6]\n",
      "[1, 2, 3]\n"
     ]
    }
   ],
   "source": [
    "list_a = [1,2,3] \n",
    "list_b = [4,5,6]\n",
    "print(list_a + list_b) \n",
    "print(list_a) # 비파괴적 처리\n",
    "\n",
    "# 리스트 연결만으로는 list_a에 어떠한 영향도 주지 않는다(비파괴적 처리).\n",
    "# 리스트 extend() 를 사용하면 list_a에 직접적으로 영향을 주게 된다(파괴적 처리). \n",
    "\n",
    "# 기본적으로 자료를 사용할 때는 비파괴적으로 사용하는 것이 바람직하다.\n",
    "# 가능하면 원본 데이터는 그대로 유지하고 사용하는 것이 선택지가 넓다. \n"
   ]
  },
  {
   "cell_type": "code",
   "execution_count": null,
   "metadata": {
    "colab": {
     "base_uri": "https://localhost:8080/"
    },
    "id": "MxmgOMW0MYlD",
    "outputId": "0fcdf1bc-1ae5-4fa3-a9ba-0cc70044348c"
   },
   "outputs": [
    {
     "data": {
      "text/plain": [
       "[]"
      ]
     },
     "execution_count": 14,
     "metadata": {},
     "output_type": "execute_result"
    }
   ],
   "source": [
    "# del() 리스트에서 인덱스 위치 데이터 삭제 \n",
    "list_a = [0,1,2,3,4,5]\n",
    "del list_a[1] # index 값으로 위치값을 삭제 \n",
    "list_a\n",
    "\n",
    "del list_a[1:3] # 1부터 3미만 즉 2까지 \n",
    "list_a\n",
    "\n",
    "del list_a[:] # 생략하면 처음 부터 끝\n",
    "list_a\n",
    "\n",
    "#list_a.clear() 리스트 요소를 전부 한번에 삭제."
   ]
  },
  {
   "cell_type": "code",
   "execution_count": null,
   "metadata": {
    "colab": {
     "base_uri": "https://localhost:8080/"
    },
    "id": "u0QodTAmNBTP",
    "outputId": "fbae6ea8-e1a0-4b1d-a6e5-0f9fdaf4bfa3"
   },
   "outputs": [
    {
     "data": {
      "text/plain": [
       "[0, 2, 3, 4, 5]"
      ]
     },
     "execution_count": 15,
     "metadata": {},
     "output_type": "execute_result"
    }
   ],
   "source": [
    "# pop()\n",
    "list_a.extend([0,1,2,3,4,5])\n",
    "list_a.pop(1)\n",
    "list_a"
   ]
  },
  {
   "cell_type": "code",
   "execution_count": null,
   "metadata": {
    "colab": {
     "base_uri": "https://localhost:8080/"
    },
    "id": "P4FU2HKqOYOB",
    "outputId": "61a18825-7854-457a-a73f-98d79b190c34"
   },
   "outputs": [
    {
     "name": "stdout",
     "output_type": "stream",
     "text": [
      "[1, 1, 2]\n",
      "[1, 1]\n"
     ]
    }
   ],
   "source": [
    "# remove 값으로 삭제 \n",
    "\n",
    "list_c = [1,2,1,2]\n",
    "list_c.remove(2) # remove 는 요소의 값을 찾아 삭제한다.\n",
    "                 # 동일한 값이 여러개 있을때는 하나씩 순차적으로 삭제한다.\n",
    "                 # 리스트에서 중복된 여러개의 값을 제거하려면 반복문을 사용한다.\n",
    "print(list_c)\n",
    "list_c.remove(2)\n",
    "print(list_c)"
   ]
  },
  {
   "cell_type": "code",
   "execution_count": null,
   "metadata": {
    "colab": {
     "base_uri": "https://localhost:8080/"
    },
    "id": "3rbnEwbFP1Qb",
    "outputId": "a763bf7d-ac2c-425f-eb5b-de83c9cfd060"
   },
   "outputs": [
    {
     "name": "stdout",
     "output_type": "stream",
     "text": [
      "1\n",
      "[1, 2, 3, 4, 5]\n",
      "5\n",
      "[1, 2, 3, 4]\n"
     ]
    }
   ],
   "source": [
    "list = [1,2,3,4,5]\n",
    "print(list[0]) # indexing 비파적으로 동작한다.\n",
    "print(list)\n",
    "\n",
    "print(list.pop()) #pop는 파괴적으로 동작한다.\n",
    "print(list)\n"
   ]
  },
  {
   "cell_type": "code",
   "execution_count": null,
   "metadata": {
    "colab": {
     "base_uri": "https://localhost:8080/"
    },
    "id": "Yllnj7ApQWmF",
    "outputId": "a2f08c90-8e7f-44f8-dfdd-cf939d4ea3f6"
   },
   "outputs": [
    {
     "name": "stdout",
     "output_type": "stream",
     "text": [
      "True\n",
      "False\n",
      "True\n"
     ]
    }
   ],
   "source": [
    "# in / not in 리스트에 존재하는 요소인지리를 확인\n",
    "\n",
    "list = [222,434,65,123,547,876]\n",
    "print(222 in list)\n",
    "list = [222,434,65,123,547,876]\n",
    "print(221 in list)\n",
    "print(221 not in list)"
   ]
  },
  {
   "cell_type": "code",
   "execution_count": null,
   "metadata": {
    "colab": {
     "base_uri": "https://localhost:8080/",
     "height": 53
    },
    "id": "kCXCO6u9Rj5X",
    "outputId": "d1d015df-f78e-4d2b-d87e-5a7d536e1fb7"
   },
   "outputs": [
    {
     "name": "stdout",
     "output_type": "stream",
     "text": [
      "{'name': '엔드게임', 'no': 1, 'type': '히어로 무비', 'price': 10000}\n"
     ]
    },
    {
     "data": {
      "application/vnd.google.colaboratory.intrinsic+json": {
       "type": "string"
      },
      "text/plain": [
       "'엔드게임'"
      ]
     },
     "execution_count": 19,
     "metadata": {},
     "output_type": "execute_result"
    }
   ],
   "source": [
    "# Dict 딕셔너리(JAVA 의 MAP,JS json 과 유사한 자료구조)\n",
    "# 리스트가 인덱스를 기반으로 값을 저장한다면 딕셔너리는 키값을 기반으로 값을 저장한다.\n",
    "\n",
    "#{key : value,...} 를 사용하여 데이터를 저장한다.\n",
    "#삽입 / 삭제가 가능하다. mutable\n",
    "#순서가 없으므로 인덱싱과 슬라이싱이 불가능하다.\n",
    "\n",
    "\n",
    "dict = { \n",
    "        \"name\":\"엔드게임\",\n",
    "        \"no\": 1,\n",
    "        \"type\":\"히어로 무비\", \n",
    "        \"price\": 10000\n",
    "}\n",
    "print(dict)\n",
    "dict['name']\n"
   ]
  },
  {
   "cell_type": "code",
   "execution_count": null,
   "metadata": {
    "colab": {
     "base_uri": "https://localhost:8080/"
    },
    "id": "1azKn-wBlGUj",
    "outputId": "999a20d7-e89b-4293-a743-80dfebb1814b"
   },
   "outputs": [
    {
     "name": "stdout",
     "output_type": "stream",
     "text": [
      "['안소니', '루소']\n",
      "['타노스', '토르', '헐크']\n"
     ]
    }
   ],
   "source": [
    "dict = {\n",
    "    \"감독\": [\"안소니\",\"루소\"],\n",
    "    \"배우\" :[\"타노스\",\"토르\",\"헐크\"]\n",
    "}\n",
    "print(dict[\"감독\"])\n",
    "print(dict[\"배우\"])"
   ]
  },
  {
   "cell_type": "code",
   "execution_count": null,
   "metadata": {
    "colab": {
     "base_uri": "https://localhost:8080/"
    },
    "id": "YHGVdUgFl_A9",
    "outputId": "33e55979-daca-4e72-bfab-62be5677fc2a"
   },
   "outputs": [
    {
     "name": "stdout",
     "output_type": "stream",
     "text": [
      "name: 건조 망고\n",
      "type: 절임 과일\n",
      "ingredint: ['망고', '설탕', '색소']\n",
      "origin: 필리핀\n",
      "name: 망고\n",
      "망고\n",
      "{'name': '망고', 'type': '절임 과일', 'ingredint': ['망고', '설탕', '색소'], 'origin': '필리핀', 'price': 5000}\n",
      "{'name': '망고', 'type': '절임 과일', 'ingredint': ['망고', '설탕', '색소'], 'origin': '필리핀', 'price': 4000}\n",
      "{'name': '망고', 'type': '절임 과일', 'ingredint': ['망고', '설탕', '색소'], 'origin': '필리핀'}\n"
     ]
    }
   ],
   "source": [
    "dict = {\"name\":\"건조 망고\",\n",
    "        \"type\": \"절임 과일\",\n",
    "        \"ingredint\":['망고','설탕','색소'],\n",
    "        \"origin\" :'필리핀'\n",
    "}\n",
    "\n",
    "print('name:',dict['name'])\n",
    "print('type:',dict['type'])\n",
    "print('ingredint:',dict['ingredint'])\n",
    "print('origin:',dict['origin'])\n",
    "\n",
    "\n",
    "dict['name'] = '망고'\n",
    "print('name:',dict['name'])\n",
    "\n",
    "print(dict['ingredint'][0])\n",
    "\n",
    "dict['price'] = 5000\n",
    "print(dict)\n",
    "\n",
    "dict['price'] = 4000\n",
    "print(dict)\n",
    "\n",
    "del dict['price']\n",
    "print(dict)"
   ]
  },
  {
   "cell_type": "code",
   "execution_count": null,
   "metadata": {
    "colab": {
     "base_uri": "https://localhost:8080/"
    },
    "id": "2biJdjR-oemp",
    "outputId": "21f7960d-76b9-4a3a-a13e-ad448e23599a"
   },
   "outputs": [
    {
     "name": "stdout",
     "output_type": "stream",
     "text": [
      "{'name': '새이름', 'height': 185, 'weight': 75}\n",
      "{'name': '새이름', 'height': 185}\n"
     ]
    }
   ],
   "source": [
    "dict = {}\n",
    "\n",
    "dict['name'] = '새이름'\n",
    "dict['height'] = 185\n",
    "dict['weight'] = 75\n",
    "\n",
    "print(dict)\n",
    "del dict['weight']\n",
    "print(dict)"
   ]
  },
  {
   "cell_type": "code",
   "execution_count": null,
   "metadata": {
    "colab": {
     "base_uri": "https://localhost:8080/",
     "height": 207
    },
    "id": "SDZMyHxepB00",
    "outputId": "dbea8156-34fc-4558-8d1a-72461d82289f"
   },
   "outputs": [
    {
     "ename": "KeyError",
     "evalue": "ignored",
     "output_type": "error",
     "traceback": [
      "\u001b[0;31m---------------------------------------------------------------------------\u001b[0m",
      "\u001b[0;31mKeyError\u001b[0m                                  Traceback (most recent call last)",
      "\u001b[0;32m<ipython-input-23-fe42b5942e51>\u001b[0m in \u001b[0;36m<module>\u001b[0;34m()\u001b[0m\n\u001b[1;32m     10\u001b[0m }\n\u001b[1;32m     11\u001b[0m \u001b[0;34m\u001b[0m\u001b[0m\n\u001b[0;32m---> 12\u001b[0;31m \u001b[0;32mdel\u001b[0m \u001b[0mdict\u001b[0m\u001b[0;34m[\u001b[0m\u001b[0;34m'nane'\u001b[0m\u001b[0;34m]\u001b[0m\u001b[0;34m\u001b[0m\u001b[0;34m\u001b[0m\u001b[0m\n\u001b[0m",
      "\u001b[0;31mKeyError\u001b[0m: 'nane'"
     ]
    }
   ],
   "source": [
    "# dict 자주 등장하는 에러(예외)\n",
    "\n",
    "# KeyError 리스트에서 없는 인덱스에 접근하려고 하면 IndexError 가 발생되는 것처럼\n",
    "# dict에서도 존재하지 않는 키값을 사용하면 예외 또는 에러를 발생시킨다. \n",
    "\n",
    "dict = {\"name\":\"건조 망고\",\n",
    "        \"type\": \"절임 과일\",\n",
    "        \"ingredint\":['망고','설탕','색소'],\n",
    "        \"origin\" :'필리핀'\n",
    "}\n",
    "\n",
    "del dict['nane']"
   ]
  },
  {
   "cell_type": "code",
   "execution_count": null,
   "metadata": {
    "id": "Qww4nqY6qH0C"
   },
   "outputs": [],
   "source": [
    "dict = {\"name\":\"건조 망고\",\n",
    "        \"type\": \"절임 과일\",\n",
    "        \"ingredint\":['망고','설탕','색소'],\n",
    "        \"origin\" :'필리핀'\n",
    "}\n",
    "\n",
    "key = input('>삭제를 원하는 데이터의 키값을 입력하세요')\n",
    "\n",
    "if key in dict :\n",
    "  print(dict[key])\n",
    "  del dict[key]\n",
    "  print([dict])\n",
    "else:\n",
    "  print('존재하지 않은 키에 접근하고 있습니다')"
   ]
  },
  {
   "cell_type": "code",
   "execution_count": null,
   "metadata": {
    "id": "3dkFHPwktT8l"
   },
   "outputs": [],
   "source": [
    "#튜플 tuple\n",
    "#()를 사용하여 작성한다.튜플은 괄호를 생략할수 있다. \n",
    "#리스트와 거의 대부분 유사하나, 튜플은 삽입,수정 등이 불가능하다 immutable \n",
    "#튜플은 1개의 원소로 작성할 떄는 ,를 삽입한다.(1,) (1,2)\n",
    "#\n",
    "\n",
    "\n",
    "t = (1, 2)\n",
    "print(t)\n",
    "print(type(t))\n",
    "\n",
    "t2 = 3, 4\n",
    "print(t2)\n",
    "print(type(t2))\n",
    "\n",
    "t3 = (5) # (5)==5\n",
    "print(t3)\n",
    "print(type(t3))\n",
    "\n",
    "t4 = 5\n",
    "print(t4)\n",
    "print(type(t4))\n",
    "\n",
    "t5 = (5,)\n",
    "print(t5)\n",
    "print(type(t5))"
   ]
  },
  {
   "cell_type": "code",
   "execution_count": null,
   "metadata": {
    "id": "05mfh758yyqT"
   },
   "outputs": [],
   "source": [
    "t = (1,2,3,4,5)\n",
    "# t[0] = 8 튜플은 수정이 불가능하다.immutable\n",
    "# del t[0] 튜플은 삭제가 불가능하다.immutable\n"
   ]
  },
  {
   "cell_type": "code",
   "execution_count": null,
   "metadata": {
    "id": "_I-A8p_kzN3L"
   },
   "outputs": [],
   "source": [
    "t = (1,2,3,4,5)\n",
    "print(t[1]) #튜플은 인덱싱이 가능하다\n",
    "print(t[2:])#튜플은 슬라이싱이 가능하다."
   ]
  },
  {
   "cell_type": "code",
   "execution_count": null,
   "metadata": {
    "id": "FaR557TpqxzA"
   },
   "outputs": [],
   "source": [
    "t1 = (1,2,3,4,5)\n",
    "t2 = (6,7,8,9)\n",
    "\n",
    "print(t1 + t2)\n",
    "print(t1)\n",
    "print(t2)\n",
    "\n",
    "\n",
    "print(t1 *3)\n",
    "print(t1)\n",
    "# 비 파괴적 연산은 가능하다\n"
   ]
  },
  {
   "cell_type": "code",
   "execution_count": null,
   "metadata": {
    "id": "i5qoAswn0iNQ"
   },
   "outputs": [],
   "source": [
    "# set 집합 \n",
    "# {} 를 사용하여 작성한다.\n",
    "# 중복을 허용하지 않는다.\n",
    "# 순서가 없다. unordered 리스트나 튜블은 순서가 있기때문에 ordered 인덱싱과 슬라이싱을 통해\n",
    "# 값을 꺼낼수 있지만 딕셔너리와 셋은 순서가 없어 불가능하다.\n",
    "# 중복을 허용하지 않는다는 특성을 활용하여 중복 제거 필터용으로 많이 사용된다.\n",
    "# set자료형에 저장된 값을 꺼내려면 리스트나 튜플로 변환하여 사용한다.\n",
    "# mutable 수정/삭제가 가능하다 \n",
    "\n",
    "set = {1,1,2,2,2,3,4}\n",
    "print(set)\n",
    "print(set[0])"
   ]
  },
  {
   "cell_type": "code",
   "execution_count": null,
   "metadata": {
    "id": "IHWGO-VG2p2B"
   },
   "outputs": [],
   "source": [
    "s1 = set([1,1,1,2,2,3])\n",
    "print(type(s1))\n",
    "print(s1)\n",
    "\n",
    "li = list(s1)\n",
    "print(type(li))\n",
    "print(li)\n",
    "li[0]"
   ]
  },
  {
   "cell_type": "code",
   "execution_count": null,
   "metadata": {
    "id": "ecudh--d4iMx"
   },
   "outputs": [],
   "source": [
    "# 집합 계산\n",
    "\n",
    "set1 = {1,2,3}\n",
    "set2 = {2,3,4}\n",
    "\n",
    "print(set1, type(set1))\n",
    "print(set2, type(set2))\n",
    "\n",
    "print(set1 & set2)# 양쪽 집합에 모두 공통적으로 포함되는 원소 -> 교집합\n",
    "print(set1.intersection(set2))\n",
    "\n",
    "# 양쪽 집합 모두에 포함되는 원소 -> 합집합\n",
    "print(set1 | set2) \n",
    "print(set1.union(set2))\n",
    "\n",
    "# 두개 집합의 차 -> 차집합\n",
    "print(set1 - set2)\n",
    "print(s1.difference(set2))"
   ]
  },
  {
   "cell_type": "code",
   "execution_count": null,
   "metadata": {
    "id": "CpDiXv6Q6oUP"
   },
   "outputs": [],
   "source": [
    "# 집합은 삽입 가능 mutable\n",
    "\n",
    "set1 = {1,2,3,}\n",
    "print(set1)\n",
    "set1.add(4)\n",
    "print(set1)\n",
    "\n",
    "set1.update([5,6,7,8])\n",
    "print(set1)\n",
    "\n",
    "#집합은 삭제가 가능하다. mutable\n",
    "#집합은 인덱스 개념이 존재하지 않는다. 따라서 값을 직접 지정하여 삭제한다.\n",
    "set1.remove(4) \n",
    "print(set1)"
   ]
  },
  {
   "cell_type": "code",
   "execution_count": null,
   "metadata": {
    "id": "JoBXW4Fg_j8f"
   },
   "outputs": [],
   "source": [
    "#Q1. 예)학번을 입력하세요 >> 31025\n",
    "#     출력) 3학년 10반 25번\n",
    "\n",
    "sn = input('학번을 입력하세요 : ')\n",
    "print(f'{sn[0]}학년 {sn[1:3]}반 {sn[3:]}번')\n"
   ]
  },
  {
   "cell_type": "code",
   "execution_count": null,
   "metadata": {
    "id": "e-a6weU9CEs-"
   },
   "outputs": [],
   "source": [
    "#Q2. 입력)차량번호를 입력하세요 >> 서울2가1234\n",
    "#         차량번호를 입력하세요 >>> 288가1233\n",
    "#    출력)서울2가1234의 차량번호 끝 4자리는 1234입니다.\n",
    "#    출력)288가1233의 차량번호 끝 4자리는 1233입니다. \n",
    "kn = input('차량번호를 입력하세요 :')\n",
    "print(f'차량번호 끝 4자리는 {kn[-4:]}입니다 ')"
   ]
  },
  {
   "cell_type": "code",
   "execution_count": null,
   "metadata": {
    "id": "BvgoLV-jDskW"
   },
   "outputs": [],
   "source": [
    "#홀수 갯수의 문자열을 입력 받아 \n",
    "#가운데 글자를 추출하는 프로그램을 구현하시오 \n",
    "#입력) 문자열을 홀수로 입력하세요 >> austins\n",
    "#입력) 문자열을 홀수로 입력하세요>> abc \n",
    "\n",
    "#출력) 문자열의 가운데 글자는 t입니다\n",
    "#출력) 문자열의 가운데 글자는 b입니다 \n",
    "ctx = input(\"문자열을 홀수로 입력하시오\")\n",
    "\n",
    "print(int(len(ctx)/2))\n",
    "print(int(len(ctx)//2)) # 몫만 추출\n",
    "print(int(len(ctx)%2)) # 나머지만 추출(홀수 짝수 배수)\n",
    "anser =(int(len(ctx)/2))\n",
    "print(f'문자열의 가운데 글자는 {ctx[anser]}')"
   ]
  },
  {
   "cell_type": "code",
   "execution_count": null,
   "metadata": {
    "id": "yyTJrZkVHkrd"
   },
   "outputs": [],
   "source": [
    "# [1,2,3,4,5,6,7,8,9] 의 3번쨰 요소부터 7번쨰 요소만 추출한 결과에서 \n",
    "# 2번째 요소를 출력하는 프로그램을 구현하세요.\n",
    "# 한번에 \n",
    "\n",
    "li = [1,2,3,4,5,6,7,8,9]\n",
    "print(li[2:7][1])\n"
   ]
  },
  {
   "cell_type": "code",
   "execution_count": 2,
   "metadata": {
    "colab": {
     "base_uri": "https://localhost:8080/"
    },
    "id": "Cx3szxNmMdkW",
    "outputId": "57b62ef1-a324-4348-dca9-d3c0b6589d97"
   },
   "outputs": [
    {
     "name": "stdout",
     "output_type": "stream",
     "text": [
      "만족\n"
     ]
    }
   ],
   "source": [
    "#############\n",
    "# if \n",
    "#############\n",
    "\n",
    "# 특정 조건을 만족하는지 여부에 따라 실행되는 코드가 달라져야할 떄 사용된다.\n",
    "# 날씨가 맑으면 소풍을가고 아니면 공부를 한다.\n",
    "# if 조건식 : \n",
    "#   만족할떄 실행 코드\n",
    "# else \n",
    "#   만족하지 못할떄 실행 코드\n",
    "\n",
    "# if 맑으면 : \n",
    "#   소풍을 간다\n",
    "# else \n",
    "#   공부를 한다\n",
    "\n",
    "if True:\n",
    "  print('만족')\n",
    "else:\n",
    "  print('불만족')\n"
   ]
  },
  {
   "cell_type": "code",
   "execution_count": 7,
   "metadata": {
    "colab": {
     "base_uri": "https://localhost:8080/"
    },
    "id": "ybv2sZBfPDr7",
    "outputId": "3518fa87-2e21-4198-b458-19bcf9538d47"
   },
   "outputs": [
    {
     "name": "stdout",
     "output_type": "stream",
     "text": [
      "당신의 나이를 입력하세요 >>17\n",
      "당신은 성인이 아닙니다. \n"
     ]
    }
   ],
   "source": [
    "age = int(input('당신의 나이를 입력하세요 >>'))\n",
    "\n",
    "if age >= 18:\n",
    "  print('당신은 성인입니다. ')\n",
    "else:\n",
    "  print('당신은 성인이 아닙니다. ')"
   ]
  },
  {
   "cell_type": "code",
   "execution_count": 6,
   "metadata": {
    "colab": {
     "base_uri": "https://localhost:8080/"
    },
    "id": "9XGKxx4tP36N",
    "outputId": "c1bb420a-0b7d-4ce3-f31e-c44217dccd77"
   },
   "outputs": [
    {
     "name": "stdout",
     "output_type": "stream",
     "text": [
      "당신의 나이를 입력하세요 >>10\n",
      "당신은 10대입니다.\n"
     ]
    }
   ],
   "source": [
    "age = int(input('당신의 나이를 입력하세요 >>'))\n",
    "\n",
    "if age < 10:\n",
    "  print('당신은 유아입니다')\n",
    "elif age < 20:\n",
    "  print('당신은 10대입니다.')\n",
    "elif age < 30:\n",
    "  print('당신은 20대입니다.')\n",
    "elif age < 40:\n",
    "  print('당신은 30대입니다.')\n",
    "elif age < 50:\n",
    "  print('당신은 40대입니다.')\n",
    "elif age < 60:\n",
    "  print('당신은 50대입니다.')\n",
    "elif age < 70:\n",
    "  print('당신은 60대입니다.')\n",
    "else:\n",
    "  print('당신은 노인입니다.')"
   ]
  },
  {
   "cell_type": "code",
   "execution_count": 12,
   "metadata": {
    "colab": {
     "base_uri": "https://localhost:8080/"
    },
    "id": "2BKS-PKIRrye",
    "outputId": "5c14b755-7428-47c9-8633-e4c43608cc0e"
   },
   "outputs": [
    {
     "name": "stdout",
     "output_type": "stream",
     "text": [
      "당신의 점수를 입력하세요 >> 70\n",
      "당신의 점수는 70점 이고 학점은 C학점입니다.\n"
     ]
    }
   ],
   "source": [
    "score = int(input(\"당신의 점수를 입력하세요 >> \"))\n",
    "gr = \"\"\n",
    "if score >=90:\n",
    "  gr = \"A\"\n",
    "elif score >=80:\n",
    "  gr = \"B\"\n",
    "elif score >=70:\n",
    "  gr = \"C\"\n",
    "elif score >=60:\n",
    "  gr = \"D\"\n",
    "else:\n",
    "  gr = \"F\"\n",
    "\n",
    "print(f\"당신의 점수는 {score}점 이고 학점은 {gr}학점입니다.\")"
   ]
  },
  {
   "cell_type": "code",
   "execution_count": 8,
   "metadata": {
    "colab": {
     "base_uri": "https://localhost:8080/"
    },
    "id": "ZkAvSs1oUHfK",
    "outputId": "59e8f95e-91da-4068-ed29-77d405a27f41"
   },
   "outputs": [
    {
     "name": "stdout",
     "output_type": "stream",
     "text": [
      "정수를 입력하세요14\n",
      "14은 3의 배수가 아닙니다\n"
     ]
    }
   ],
   "source": [
    "#임의의 정수를 입력받아서 그 수가 3의 배수인지를 확인하는 \n",
    "#프로그램을 작성하시오 %홀수 짝수 배수\n",
    "\n",
    "#(입력) 정수를 입력하세요 >>>>>14\n",
    "#(출력) 14는 3의 배수가 아닙니다.\n",
    "\n",
    "#(입력) 정수를 입력하세요 >>> 15\n",
    "#(출력) 15는 3의 배수입니다. \n",
    "\n",
    "n = int(input('정수를 입력하세요'))\n",
    "r = ''\n",
    "if n%3 !=0:\n",
    "   r= \"가 아닙니다\"\n",
    "else : \n",
    "  r =\"입니다\" \n",
    "\n",
    "print(f'{n}은 3의 배수{r}')   "
   ]
  },
  {
   "cell_type": "code",
   "execution_count": 11,
   "metadata": {
    "colab": {
     "base_uri": "https://localhost:8080/"
    },
    "id": "_gMOykwQU5af",
    "outputId": "689128dd-35c7-46c3-a8e4-e8853ef954a6"
   },
   "outputs": [
    {
     "name": "stdout",
     "output_type": "stream",
     "text": [
      "정수1 입력3\n",
      "정수2 입력1\n",
      "정수3 입력2\n",
      "3\n"
     ]
    }
   ],
   "source": [
    "# 정수 3개를 입력 받아서 그 중에서 가장 큰수를 찾아 출력하는 프로그램\n",
    "# if 를 꼭 사용하시오.\n",
    "# 정수1입력>3\n",
    "# 정수2입력>1\n",
    "# 정수3입력>2\n",
    "\n",
    "# 가장 큰수는 3입니다.1\n",
    "num1 = int(input('정수1 입력'))\n",
    "num2 = int(input('정수2 입력'))\n",
    "num3 = int(input('정수3 입력'))\n",
    "\n",
    "if num1 > num2:\n",
    "  if num1 > num3:\n",
    "    max = num1\n",
    "elif num2 > num3:\n",
    "  max = num2\n",
    "else:\n",
    "  max = num3\n",
    "\n",
    "print(max)"
   ]
  }
 ],
 "metadata": {
  "colab": {
   "authorship_tag": "ABX9TyP5ozJLHtaVnzRkK35QiFxI",
   "collapsed_sections": [],
   "include_colab_link": true,
   "name": "Day2.ipynb",
   "provenance": []
  },
  "kernelspec": {
   "display_name": "Python 3 (ipykernel)",
   "language": "python",
   "name": "python3"
  },
  "language_info": {
   "codemirror_mode": {
    "name": "ipython",
    "version": 3
   },
   "file_extension": ".py",
   "mimetype": "text/x-python",
   "name": "python",
   "nbconvert_exporter": "python",
   "pygments_lexer": "ipython3",
   "version": "3.9.7"
  }
 },
 "nbformat": 4,
 "nbformat_minor": 1
}
