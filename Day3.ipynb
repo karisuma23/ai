{
 "cells": [
  {
   "cell_type": "markdown",
   "metadata": {
    "colab_type": "text",
    "id": "view-in-github"
   },
   "source": [
    "<a href=\"https://colab.research.google.com/github/karisuma23/ai/blob/main/Day3.ipynb\" target=\"_parent\"><img src=\"https://colab.research.google.com/assets/colab-badge.svg\" alt=\"Open In Colab\"/></a>"
   ]
  },
  {
   "cell_type": "code",
   "execution_count": null,
   "metadata": {
    "colab": {
     "base_uri": "https://localhost:8080/"
    },
    "id": "CfRz8dTry8Mc",
    "outputId": "4abeec75-a0c0-48eb-8463-eb371dd17946"
   },
   "outputs": [
    {
     "name": "stdout",
     "output_type": "stream",
     "text": [
      "1\n",
      "['하나', '둘']\n",
      "[9, 2, 3, 4, 5]\n",
      "[9, 2, 3, 4, 5, 9, 2, 3, 4, 5, 9, 2, 3, 4, 5]\n",
      "[9, 2, 3, 4, 5, 8]\n"
     ]
    }
   ],
   "source": [
    "####################################################\n",
    "# Review\n",
    "####################################################\n",
    "\n",
    "# Collection : 많은 데이터(elements)를 저장하고 관리한다. \n",
    "\n",
    "# 리스트list        튜플 tuple        딕셔너리 dict         셋 set\n",
    "\n",
    "# []                ()                {}                    {}\n",
    "# mutable           immutable         mutable               mutable\n",
    "# indexing/slicing  indexing/slicing  Nope                  Nope\n",
    "#                   (1,)             {key:value}            중복데이터 미허용\n",
    "#                                    자바의 map, JS json    중복제거\n",
    "\n",
    "# List\n",
    "list1 = [1,2,3,4,5]\n",
    "list2 = [2,3,'하나','둘',True,False]\n",
    "\n",
    "print(list1[0])  # indexing\n",
    "print(list2[2:4])# slicing [시작:끝(미만)]\n",
    "\n",
    "list1[0] = 9\n",
    "print(list1)\n",
    "\n",
    "print(list1*3)\n",
    "\n",
    "list1.append(8) # append()는 마지막에 넣는다\n",
    "print(list1)\n",
    "\n",
    "list1.insert(0, 10) # 특정 위치를 지정하여 삽입"
   ]
  },
  {
   "cell_type": "code",
   "execution_count": null,
   "metadata": {
    "id": "VA2MdKWi_1Zp"
   },
   "outputs": [],
   "source": []
  },
  {
   "cell_type": "code",
   "execution_count": null,
   "metadata": {
    "colab": {
     "base_uri": "https://localhost:8080/"
    },
    "id": "KYNoY-kf6VDZ",
    "outputId": "e6b0570f-7b17-4575-8eb3-a06bf3800445"
   },
   "outputs": [
    {
     "name": "stdout",
     "output_type": "stream",
     "text": [
      "[10, 9, 2, 3, 4, 5, 8]\n",
      "[10, 9, 2, 3, 4, 5, 8]\n",
      "140456331679216\n",
      "140456331679216\n",
      "[9, 2, 3, 4, 5, 8]\n",
      "[9, 2, 3, 4, 5, 8]\n",
      "\n",
      "\n",
      "[9, 2, 3, 4, 5, 8]\n",
      "[9, 2, 3, 4, 5, 8]\n",
      "140456331679216\n",
      "140456278768928\n",
      "[9, 2, 3, 4, 5, 8]\n",
      "[2, 3, 4, 5, 8]\n"
     ]
    }
   ],
   "source": [
    "list3 = list1\n",
    "print(list1)\n",
    "print(list3)\n",
    "print(id(list1))\n",
    "print(id(list3))\n",
    "del list3[0]\n",
    "\n",
    "print(list1)\n",
    "print(list3)\n",
    "\n",
    "# list1  -------> [9, 2, 3, 4, 5, 8] <------- list3\n",
    "\n",
    "print()\n",
    "print()\n",
    "\n",
    "list4 = list1.copy()\n",
    "\n",
    "print(list1)\n",
    "print(list4)\n",
    "print(id(list1))\n",
    "print(id(list4))\n",
    "del list4[0]\n",
    "\n",
    "print(list1)\n",
    "print(list4)"
   ]
  },
  {
   "cell_type": "code",
   "execution_count": null,
   "metadata": {
    "colab": {
     "base_uri": "https://localhost:8080/"
    },
    "id": "N16aqlBC9XUE",
    "outputId": "19da5840-8e57-40df-9ef8-3ca74ae1698f"
   },
   "outputs": [
    {
     "name": "stdout",
     "output_type": "stream",
     "text": [
      "<class 'tuple'>\n",
      "<class 'tuple'>\n"
     ]
    }
   ],
   "source": [
    "t1 = ('대한','민국')\n",
    "print(type(t1))\n",
    "\n",
    "t2 = (1,)\n",
    "print(type(t2))"
   ]
  },
  {
   "cell_type": "code",
   "execution_count": null,
   "metadata": {
    "colab": {
     "base_uri": "https://localhost:8080/",
     "height": 35
    },
    "id": "MLQp-Vah93Io",
    "outputId": "73bf7aaa-8a44-411d-86c0-548f8f928178"
   },
   "outputs": [
    {
     "data": {
      "application/vnd.google.colaboratory.intrinsic+json": {
       "type": "string"
      },
      "text/plain": [
       "'대한'"
      ]
     },
     "execution_count": 4,
     "metadata": {},
     "output_type": "execute_result"
    }
   ],
   "source": [
    "# t1[0] = '만세'\n",
    "t1[0]\n",
    "# t1.pop()"
   ]
  },
  {
   "cell_type": "code",
   "execution_count": null,
   "metadata": {
    "colab": {
     "base_uri": "https://localhost:8080/"
    },
    "id": "5EtUAuHL-wtg",
    "outputId": "9c1bbe75-e4d2-43a4-b183-def42adeda15"
   },
   "outputs": [
    {
     "name": "stdout",
     "output_type": "stream",
     "text": [
      "{'key': 'value'}\n",
      "value\n",
      "{'key': 'value', 'newkey': 'ai'}\n",
      "{'newkey': 'ai'}\n"
     ]
    }
   ],
   "source": [
    "# Dict \n",
    "\n",
    "dict = {\n",
    "    'key':'value'\n",
    "}\n",
    "\n",
    "print(dict)\n",
    "print(dict['key'])\n",
    "\n",
    "dict['newkey'] = 'ai'\n",
    "print(dict)\n",
    "\n",
    "del dict['key']\n",
    "print(dict)\n"
   ]
  },
  {
   "cell_type": "code",
   "execution_count": null,
   "metadata": {
    "colab": {
     "base_uri": "https://localhost:8080/",
     "height": 225
    },
    "id": "t_2bUidx_2aP",
    "outputId": "a87ad376-bd87-4b7f-e9da-b1f11d74ec3f"
   },
   "outputs": [
    {
     "name": "stdout",
     "output_type": "stream",
     "text": [
      "{1, 2, 3}\n"
     ]
    },
    {
     "ename": "TypeError",
     "evalue": "ignored",
     "output_type": "error",
     "traceback": [
      "\u001b[0;31m---------------------------------------------------------------------------\u001b[0m",
      "\u001b[0;31mTypeError\u001b[0m                                 Traceback (most recent call last)",
      "\u001b[0;32m<ipython-input-6-c9dff2e5597c>\u001b[0m in \u001b[0;36m<module>\u001b[0;34m()\u001b[0m\n\u001b[1;32m      4\u001b[0m \u001b[0mprint\u001b[0m\u001b[0;34m(\u001b[0m\u001b[0mset\u001b[0m\u001b[0;34m)\u001b[0m\u001b[0;34m\u001b[0m\u001b[0;34m\u001b[0m\u001b[0m\n\u001b[1;32m      5\u001b[0m \u001b[0;34m\u001b[0m\u001b[0m\n\u001b[0;32m----> 6\u001b[0;31m \u001b[0mprint\u001b[0m\u001b[0;34m(\u001b[0m\u001b[0mset\u001b[0m\u001b[0;34m[\u001b[0m\u001b[0;36m0\u001b[0m\u001b[0;34m]\u001b[0m\u001b[0;34m)\u001b[0m\u001b[0;34m\u001b[0m\u001b[0;34m\u001b[0m\u001b[0m\n\u001b[0m",
      "\u001b[0;31mTypeError\u001b[0m: 'set' object is not subscriptable"
     ]
    }
   ],
   "source": [
    "# Set\n",
    "\n",
    "set = {1,1,2,2,2,3}\n",
    "print(set)\n",
    "\n",
    "print(set[0])"
   ]
  },
  {
   "cell_type": "code",
   "execution_count": null,
   "metadata": {
    "id": "51AaChAD_9wH"
   },
   "outputs": [],
   "source": [
    "#########################################\n",
    "# if 조건문\n",
    "#########################################\n",
    "\n",
    "# if 조건식(True or False):\n",
    "#   True일 경우 실행\n",
    "# else:\n",
    "#   False일 경우 실행\n",
    "\n",
    "if False:\n",
    "  print('True')\n",
    "else:\n",
    "  print('False')\n",
    "\n",
    "\n",
    "if False:\n",
    "  print('1st')\n",
    "elif False:\n",
    "  print('2nd')\n",
    "elif False:\n",
    "  print('3rd')\n",
    "else:\n",
    "  print('etc')  \n",
    "\n",
    "score  = 80\n",
    "if score >= 100:\n",
    "  print('상')\n",
    "else:\n",
    "  if score >= 50:\n",
    "    print('중')\n",
    "  else:\n",
    "    print('하')\n",
    "\n",
    "if score >= 100:\n",
    "  print('상')\n",
    "elif score >= 50:\n",
    "    print('중')\n",
    "else:\n",
    "    print('하')"
   ]
  },
  {
   "cell_type": "code",
   "execution_count": null,
   "metadata": {
    "id": "vol5uKJdJTzI"
   },
   "outputs": [],
   "source": [
    "  # 입력) 당신의 점수를 입력하세요 >>> 95\n",
    "  # 출력) 당신의 점수는 95 점이고 학점은 AO학점입니다.  \n",
    "  #                     --               --\n",
    "  # 조건)100 점 초과인 점수는 없다. 0점 미만인 점수도 절대 없음\n",
    "  # 100~ 90 A \n",
    "  #  89~ 80 B\n",
    "  #  79~ 70 C\n",
    "  #  69~ 60 D \n",
    "  #  나머지 F\n",
    "\n",
    "  # 0 ~ 3 -\n",
    "  # 4 ~ 6 O\n",
    "  # 7 ~ 9 +\n",
    "\n",
    "score = int(input(\"당신의 점수를 입력하세요\"))\n",
    "a = \"\"\n",
    "r= \"\"\n",
    "if 90 <= score <= 100 :\n",
    "  r = \"A\" \n",
    "elif 80 <= score <90 :\n",
    "  r = \"B\"\n",
    "elif 70 <= score <80 :\n",
    "  r=\"C\"\n",
    "elif 60 <= score <70 :\n",
    "  r=\"D\"\n",
    "elif 0 < score < 60:\n",
    "  r=\"F\"\n",
    "\n",
    "if 0 or 1 or 2 or 3 in str(score)[2]:\n",
    "  a = \"-\"\n",
    "elif 4 or 5 or 6 in str(score)[2]:\n",
    "  a=\"0\"\n",
    "else:\n",
    "  a=\"+\"    \n",
    "print(f\"당신의 점수는 {score}점 이고 학점은 {r}{a}학점입니다 \")\n"
   ]
  },
  {
   "cell_type": "code",
   "execution_count": null,
   "metadata": {
    "id": "CKulmPDXMBRR"
   },
   "outputs": [],
   "source": [
    "sc = int(input('당신의 점수를 입력하세요 >>'))\n",
    "gr=\"\"\n",
    "\n",
    "if sc >=97:\n",
    "  gr=\"A+\"\n",
    "elif sc >=94:\n",
    "  gr=\"AO\"\n",
    "elif sc >=90:\n",
    "  gr=\"A-\"\n",
    "elif sc >=87:\n",
    "  gr=\"B+\"\n",
    "elif sc >=84:\n",
    "  gr=\"BO\"\n",
    "elif sc >=80:\n",
    "  gr=\"B-\"\n",
    "elif sc >=77:\n",
    "  gr=\"C+\"\n",
    "elif sc >=74:\n",
    "  gr=\"CO\"\n",
    "elif sc >=70:\n",
    "  gr=\"C-\"\n",
    "elif sc >=67:\n",
    "  gr=\"D+\"\n",
    "elif sc >=64:\n",
    "  gr=\"DO\"\n",
    "elif sc >=60:\n",
    "  gr=\"D-\"\n",
    "else:\n",
    "  gr=\"F\"      \n",
    "\n",
    "print(f'당신의 점수는 {sc}점이고 학점은 {gr}학점입니다.')\n"
   ]
  },
  {
   "cell_type": "code",
   "execution_count": null,
   "metadata": {
    "id": "A4Ep6PySMPQ2"
   },
   "outputs": [],
   "source": [
    "score = int(input(\"점수를 입력하세요 >>>\"))\n",
    "\n",
    "if score >= 90:\n",
    "  gr = \"A\"\n",
    "elif score >= 80:\n",
    "  gr = \"B\"\n",
    "elif score >= 70:\n",
    "  gr = \"C\"\n",
    "elif score >= 60:\n",
    "  gr = \"D\"\n",
    "else:\n",
    "  gr = \"F\"\n",
    "\n",
    "\n",
    "if int(score%10) >= 7:\n",
    "  de = '+'\n",
    "elif int(score%10) >= 4:\n",
    "  de = 'O'\n",
    "else:\n",
    "  de = '-'\n",
    "\n",
    "print(f'당신의 점수는 {score}이며 학점은 {gr}{de}입니다. ')"
   ]
  },
  {
   "cell_type": "code",
   "execution_count": null,
   "metadata": {
    "id": "CW9NxJAoRDsa"
   },
   "outputs": [],
   "source": [
    "a = input('입력하세요 >>')\n",
    "\n",
    "print(a)\n",
    "print(type(a))\n",
    "\n",
    "b = int(a)\n",
    "print(b)\n",
    "print(type(b))"
   ]
  },
  {
   "cell_type": "code",
   "execution_count": null,
   "metadata": {
    "id": "oG7qtfPKR2p5"
   },
   "outputs": [],
   "source": [
    "#####################################\n",
    "# While\n",
    "#####################################\n",
    "\n",
    "# 반복문은 작업 수행을 한 번이 아니라 계속해서 수행해야 할때 사용한다. \n",
    "# while 반복 작업을 몇 번 수행할지 확실하지 않을 때 주로 사용한다. \n",
    "# '운동장을 해가 질때까지 반복해서 돌자'\n",
    "\n",
    "# while 조건식:\n",
    "#   실행구문\n",
    "\n",
    "while True:\n",
    "  print('운동장 돌기')"
   ]
  },
  {
   "cell_type": "code",
   "execution_count": null,
   "metadata": {
    "id": "_BVrDMPsTCAA"
   },
   "outputs": [],
   "source": [
    "n = 1\n",
    "while n <= 10:\n",
    "  print(n)\n",
    "  n = n + 1\n",
    "\n",
    "print('-------------')\n",
    "print(n)"
   ]
  },
  {
   "cell_type": "code",
   "execution_count": null,
   "metadata": {
    "id": "XpPxFjOET5yO"
   },
   "outputs": [],
   "source": [
    "n = 1\n",
    "while n <= 10:\n",
    "  print(n)\n",
    "  n += 1   # n = n + 1   (자바 n++)\n",
    "\n",
    "print('-------------')\n",
    "print(n)"
   ]
  },
  {
   "cell_type": "code",
   "execution_count": null,
   "metadata": {
    "id": "9QG940fXUWSV"
   },
   "outputs": [],
   "source": [
    "# 10 부터 1까지 짝수만(꺼꾸로) 출력\n",
    "\n",
    "n = 10\n",
    "while n >=1:\n",
    "  print(n)\n",
    "  n -= 2      #  n = n - 2\n",
    "\n",
    "n = 10\n",
    "while n>=1:\n",
    "  if n%2 ==0:\n",
    "    print(n)\n",
    "  n -=1\n"
   ]
  },
  {
   "cell_type": "code",
   "execution_count": null,
   "metadata": {
    "id": "1JTy-V5AVP_C"
   },
   "outputs": [],
   "source": [
    "# 사용자로 부터 임의의 정수를 입력 받아 모두 리스트에 보관합니다.\n",
    "# 단, 0을 입력하면 프로그램을 종료합니다. (0은 리스트에 저장 안함)\n",
    "# 최종 저장된 리스트를 출력합니다. \n",
    "\n",
    "arr = []\n",
    "no = 1\n",
    "\n",
    "while no != 0:\n",
    "  no = int(input('정수입력 >>> '))\n",
    "\n",
    "  if no != 0:\n",
    "    arr.append(no)\n",
    "\n",
    "print(arr)\n",
    "\n",
    "\n",
    "# d2 = []\n",
    "# d =1\n",
    "# while d != 0 :\n",
    "#   d = int(input('번호입력'))\n",
    "#   d2.append(d)\n",
    "\n",
    "# del d2[-1]\n",
    "# print(d2)\n"
   ]
  },
  {
   "cell_type": "code",
   "execution_count": null,
   "metadata": {
    "id": "gh_NXLiDYlDv"
   },
   "outputs": [],
   "source": [
    "# while 중첩\n",
    "# while  내부에 또 다른  while 을 사용하는 것을 중첩이라고 한다.\n",
    "\n",
    "# 3일 동안 1~3교시 수업을 한다.\n",
    "\n",
    "# 1일차 1교시입니다.\n",
    "# 1일차 2교시입니다\n",
    "# 1일차 3교시입니다.\n",
    "# 2일차 1교시입니다.\n",
    "# 2일차 2교시입니다.\n",
    "# 2일차 3교시입니다.\n",
    "# 3일차 1교시입니다.\n",
    "# 3일차 2교시입니다.\n",
    "# 3일차 3교시입니다.\n"
   ]
  },
  {
   "cell_type": "code",
   "execution_count": null,
   "metadata": {
    "id": "os9qBovysrGL"
   },
   "outputs": [],
   "source": [
    "day = 1\n",
    "while day <= 3:\n",
    "  hour = 1\n",
    "  while hour <= 3:\n",
    "    print(f'{day}일차 {hour}교시입니다.')\n",
    "    hour += 1\n",
    "  day += 1"
   ]
  },
  {
   "cell_type": "code",
   "execution_count": null,
   "metadata": {
    "id": "iO07ZxrHuNl_"
   },
   "outputs": [],
   "source": [
    "# 구구간을 2단부터 9단까지 출력하세요 while\n",
    "\n",
    "# 2 X 1 = 2\n",
    "# 2 X 2 = 4\n",
    "# ,\n",
    "# ,\n",
    "# ,\n",
    "# 9 X 9 = 81"
   ]
  },
  {
   "cell_type": "code",
   "execution_count": null,
   "metadata": {
    "id": "OiglJWW5vTtM"
   },
   "outputs": [],
   "source": [
    "dan = 2\n",
    "while dan <= 9:\n",
    "  n = 1\n",
    "  while n <= 9:\n",
    "    print(f'{dan} X {n} = {dan * n}')\n",
    "    n += 1\n",
    "  dan += 1"
   ]
  },
  {
   "cell_type": "code",
   "execution_count": null,
   "metadata": {
    "id": "IOfSph6XwQCw"
   },
   "outputs": [],
   "source": [
    "# q 정수를 입력 받아서 그 횟수 만큼 'Hello'를 출력하는 프로그램을 \n",
    "# 작성하세요. \n",
    "# 0 이하의 값이 입력되면 '잘못된 입력입니다.' 라고 출력하세요.\n",
    "\n",
    "# 정수를 입력하세요 >>> 3\n",
    "\n",
    "# 1번째 Hello\n",
    "# 2번째 Hello\n",
    "# 3번째 Hello\n",
    "\n",
    "# 정수를 입력하세요 >>> 0\n",
    "# 잘못된 입력입니다. "
   ]
  },
  {
   "cell_type": "code",
   "execution_count": null,
   "metadata": {
    "id": "0PSSi4hjyFNO"
   },
   "outputs": [],
   "source": [
    "no = int(input(\"정수를 입력하세요 >>> \"))\n",
    "n = 1\n",
    "\n",
    "if no > 0:\n",
    "  while no > 0:\n",
    "    print(f'{n}번째 Hello')\n",
    "    n += 1\n",
    "    no -= 1\n",
    "else:\n",
    "   print('잘못된 입력입니다.')"
   ]
  },
  {
   "cell_type": "code",
   "execution_count": null,
   "metadata": {
    "id": "vn93bg3PyhC-"
   },
   "outputs": [],
   "source": [
    "# q2  1 부터 100사이의 모든 정수 중에서 7의 배수만 출력하세요\n",
    "\n",
    "n = 7\n",
    "while n <= 100:\n",
    "  print(n)\n",
    "  n += 7\n"
   ]
  },
  {
   "cell_type": "code",
   "execution_count": null,
   "metadata": {
    "id": "-P9WMrAp2mLc"
   },
   "outputs": [],
   "source": [
    "# 커피 1잔을 300원에 판매하는 자판기가 있다 \n",
    "# 자판기에 돈을 넣었을때 자팜기에서 뽑을 수 있는 커피가 몇잔이고\n",
    "# 잔돈이 얼마인지 함께 출력하세요\n",
    "\n",
    "자판기에 얼마를 넣을까요 >>> 1400\n",
    "커피 1잔, 잔돈 1100원\n",
    "커피 2잔, 잔돈 800원\n",
    "커피 3잔, 잔돈 500원\n",
    "커피 4잔, 잔돈 200원\n"
   ]
  },
  {
   "cell_type": "code",
   "execution_count": null,
   "metadata": {
    "id": "HytOrjpM1gIa"
   },
   "outputs": [],
   "source": [
    "\n",
    "a=int(input('자판기에 얼마를 넣을까요>>>'))\n",
    "cof=300\n",
    "num=1\n",
    "while cof<=a:\n",
    "  print(f'커피 {num}잔, 잔돈 {a-cof}원')\n",
    "  num+=1\n",
    "  cof+=300\n"
   ]
  },
  {
   "cell_type": "code",
   "execution_count": null,
   "metadata": {
    "id": "bKr3JzCL6VB6"
   },
   "outputs": [],
   "source": [
    "# 사용자로 부터 0부터 9까지 의 정수를 입력받아 입력된 정수가 5개가 \n",
    "# 될때까지 입력 받는 프로그램을 구현하세요 , \n",
    "# 중복된 값이 입력되면 해당입력은 무시합니다.\n",
    "# set , while 사용할 것\n",
    "\n",
    "0 ~ 9 사이 정수를 입력하세요 >>> 0\n",
    "0 ~ 9 사이 정수를 입력하세요 >>> 0 # 무시\n",
    "0 ~ 9 사이 정수를 입력하세요 >>> 1 \n",
    "0 ~ 9 사이 정수를 입력하세요 >>> 1 # 무시\n",
    "0 ~ 9 사이 정수를 입력하세요 >>> 2\n",
    "0 ~ 9 사이 정수를 입력하세요 >>> 3 \n",
    "0 ~ 9 사이 정수를 입력하세요 >>> 4 \n",
    "\n",
    "5개의 고유한 정수가 모두 입력되었습니다.\n",
    "입력된 값은 ...........입니다. "
   ]
  },
  {
   "cell_type": "code",
   "execution_count": 1,
   "metadata": {
    "id": "qcSyH6EnAj-P"
   },
   "outputs": [
    {
     "name": "stdout",
     "output_type": "stream",
     "text": [
      "0 ~ 9 사이 정수를 입력하세요 >>>1\n",
      "0 ~ 9 사이 정수를 입력하세요 >>>1\n",
      "0 ~ 9 사이 정수를 입력하세요 >>>2\n",
      "0 ~ 9 사이 정수를 입력하세요 >>>2\n",
      "0 ~ 9 사이 정수를 입력하세요 >>>3\n",
      "0 ~ 9 사이 정수를 입력하세요 >>>3\n",
      "0 ~ 9 사이 정수를 입력하세요 >>>4\n",
      "0 ~ 9 사이 정수를 입력하세요 >>>5\n",
      "{1, 2, 3, 4, 5}\n"
     ]
    }
   ],
   "source": [
    "num = set([])\n",
    "\n",
    "while len(num) <= 4:\n",
    "  no = int(input('0 ~ 9 사이 정수를 입력하세요 >>>'))\n",
    "  num.add(no)\n",
    "  # print(num)\n",
    "\n",
    "print(num)"
   ]
  },
  {
   "cell_type": "code",
   "execution_count": null,
   "metadata": {
    "id": "JwzP5rxyC-be"
   },
   "outputs": [],
   "source": [
    "# 1부터 100사이의 모든 정수를 한줄에 10개씩 출력하시오\n",
    "# while 2번 사용할 것\n",
    "1     2     3     4     5     6     7     8     9     10\n",
    "11\n",
    "12\n",
    "13\n",
    ".\n",
    ".\n",
    "91    92    93                    ...                 100"
   ]
  },
  {
   "cell_type": "code",
   "execution_count": null,
   "metadata": {
    "id": "_tXHM6d7DDNg"
   },
   "outputs": [],
   "source": [
    "# n = 1\n",
    "# while n <= 100:\n",
    "#   if n % 10 != 0:\n",
    "#     print(n, end='\\t')\n",
    "#   else:\n",
    "#     print(n)\n",
    "#   n += 1\n",
    "n = 1\n",
    "while n <= 100:\n",
    "     t = 0\n",
    "while t < 10:\n",
    "    print(n, end='\\t')\n",
    "    t += 1\n",
    "    n += 1\n",
    "    print(\"\")"
   ]
  },
  {
   "cell_type": "code",
   "execution_count": null,
   "metadata": {
    "id": "igiUsuvPLdHv"
   },
   "outputs": [],
   "source": [
    "#########\n",
    "# for\n",
    "#########\n",
    "\n",
    "# 몇 번 반복 시킬지 그 횟수가 명확할 때 주로 사용한다. \n",
    "\n",
    "# for 변수 in 반복시킬값들:\n",
    "#   반복실행문\n",
    "\n",
    "# 리스트\n",
    "# for i in [1,2,3]:\n",
    "#   print(i)\n",
    "\n",
    "# 문자열\n",
    "# for i in 'hello':\n",
    "#   print(i)\n",
    "\n",
    "# 튜플\n",
    "# for i in (1,2,3):\n",
    "#   print(i)  \n",
    "\n",
    "# range()\n",
    "for i in range(1,4,2):  #range(시작(생략가능), 끝(미만), 스탭(생략가능))\n",
    "  print(i)\n",
    "\n",
    "# set, dict 는 순서와 상관 없이는 사용 가능"
   ]
  },
  {
   "cell_type": "code",
   "execution_count": null,
   "metadata": {
    "id": "YLxrRbxiN_2h"
   },
   "outputs": [],
   "source": [
    "# 비밀 번호(str)를 입력 받아서 숫자와 문자가 모두 반드시 하나이상 \n",
    "# 포함된 경우만 '사용 가능한 비번입니다.'\n",
    "# '불가능한 비번입니다'\n",
    "# ch.isalpha() - 알파벳이면 구성되면 True \n",
    "# ch.isnumeric() - 숫자면  True\n",
    "\n",
    "(입력) 비밀 번호를 입력하세요 >>>\n",
    "(출력) 사용 가능한 비번입니다."
   ]
  },
  {
   "cell_type": "code",
   "execution_count": null,
   "metadata": {
    "id": "3oH6dLt4QpgC"
   },
   "outputs": [],
   "source": [
    "pw = input('비밀 번호를 입력하세요 >>>')\n",
    "ch_count = 0\n",
    "no_count = 0\n",
    "\n",
    "for ch in pw:\n",
    "  if ch.isalpha():\n",
    "    ch_count += 1\n",
    "  elif ch.isnumeric():\n",
    "    no_count += 1\n",
    "\n",
    "if ch_count > 0 and no_count > 0:\n",
    "  print('사용 가능한 비번입니다.')\n",
    "else:\n",
    "  print('사용 불가한 비번입니다.')"
   ]
  },
  {
   "cell_type": "code",
   "execution_count": null,
   "metadata": {
    "id": "g8pYMzdvV-aD"
   },
   "outputs": [],
   "source": [
    "# range([start], stop, [step])\n",
    "\n",
    "# 1 숫자들을 컬렉션으로 만든다. \n",
    "# 2 start를 생략하면 0부터 시작한다. \n",
    "# 3 stop은 생략할수 없다. \n",
    "# 4 step을 생략하면 1씩 증가한다. \n",
    "\n"
   ]
  },
  {
   "cell_type": "code",
   "execution_count": null,
   "metadata": {
    "id": "s0SVzXszWufV"
   },
   "outputs": [],
   "source": [
    "# quiz . range와 for 문을 사용하여 구구간을 출력하세요\n",
    "#(입력) 출력할 구구단을 입력하세요 >>> 5\n",
    "\n",
    "5 x 1 = 5\n",
    "5 x 2 = 10\n",
    ".\n",
    ".\n",
    ".\n",
    "5 x 9 = 45"
   ]
  },
  {
   "cell_type": "code",
   "execution_count": null,
   "metadata": {
    "id": "ilAyBRmPXZrd"
   },
   "outputs": [],
   "source": [
    "dan = int(input('출력할 구구단을 입력하세요 >>>'))\n",
    "\n",
    "for i in range(1,10,1):\n",
    "  print(f'{dan} x {i} = {dan*i}')"
   ]
  },
  {
   "cell_type": "code",
   "execution_count": null,
   "metadata": {
    "id": "m59rrQ8jX3vf"
   },
   "outputs": [],
   "source": [
    "# set, dict 도 for문으로 사용은 가능하나 순서는 보장하지 않는다. \n",
    "\n",
    "for i in {'가위','바위','보'}:\n",
    "  print(i)"
   ]
  },
  {
   "cell_type": "code",
   "execution_count": null,
   "metadata": {
    "id": "Amf3kKePZLxR"
   },
   "outputs": [],
   "source": []
  },
  {
   "cell_type": "code",
   "execution_count": null,
   "metadata": {
    "id": "l2a14b8nYajy"
   },
   "outputs": [],
   "source": [
    "person = {\n",
    "    'name':'에밀리',\n",
    "    'age':'20'\n",
    "}\n",
    "\n",
    "for i in person:\n",
    "  print(i)\n",
    "\n",
    "for i in person:\n",
    "  print(person[i])"
   ]
  },
  {
   "cell_type": "code",
   "execution_count": null,
   "metadata": {
    "id": "07BAb0IbZMZS"
   },
   "outputs": [],
   "source": [
    "# 사용자로부터 양의 정수를 하나 입력 받아서 1부터 입력 받은 정수 까지의\n",
    "# 모든 정수의 합계를 구하는 프로그램을 작성하세요\n",
    "\n",
    "# (입력) 임의의 양수를 입력하세요 >>> 5\n",
    "# (출력) 1부터 5사이의 모든 정수의 합계는 15입니다. \n",
    "\n",
    "no = int(input('임의의 양수를 입력하세요 >>>'))\n",
    "\n",
    "sum = 0\n",
    "\n",
    "for i in range(1,no+1):\n",
    "  sum = sum + i  # sum += i\n",
    "\n",
    "print(f'1부터 {no}사이의 모든 정수의 합계는 {sum}입니다.')"
   ]
  },
  {
   "cell_type": "code",
   "execution_count": null,
   "metadata": {
    "id": "Y39zZoBraqIm"
   },
   "outputs": [],
   "source": [
    "사용자로부터 임의의 정수를 하나 입력 받아서 그 숫자 만큼의 \n",
    "'과일이름'입력 받아서'basket' 리스트에 저장하는 프로그램을 작성하세요\n",
    "\n",
    "몇 개의 과일을 보관할까요 ? >>> 3\n",
    "1번째 과일을 입력하세요 >>> 사과\n",
    "2번째 과일을 입력하세요 >>> 바나나\n",
    "3번째 과일을 입력하세요 >>> 체리\n",
    "\n",
    "입력 받은 과일들은 ['사과','바나나','체리'] 입니다.\n"
   ]
  },
  {
   "cell_type": "code",
   "execution_count": null,
   "metadata": {
    "id": "96dPDFsxbwez"
   },
   "outputs": [],
   "source": [
    "no = int(input('몇 개의 과일을 보관할까요 ? >>>'))\n",
    "\n",
    "basket = []\n",
    "\n",
    "for i in range(1, no+1):\n",
    "  fruit = input(f'{i}번째 과일을 입력하세요 >>>')\n",
    "  basket.append(fruit)\n",
    "\n",
    "print(f'입력 받은 과일들은 {basket} 입니다.')"
   ]
  },
  {
   "cell_type": "code",
   "execution_count": null,
   "metadata": {
    "id": "ivYAbl9ycwpH"
   },
   "outputs": [],
   "source": [
    "1부터 99 사이의 모든 정수를 대상으로 369게임의 결과를 출력하는 프로그램을 작성하세요\n",
    "\n",
    "1   2   짝    4   5   짝.......8    짝    10\n",
    "11  12  짝...\n",
    "21\n",
    "짝  짝  짝짝  짝  짝\n",
    "41\n",
    "51\n",
    "짝\n",
    "71\n",
    "81\n",
    "짝 짝  짝짝                    짝  짝짝\n"
   ]
  },
  {
   "cell_type": "code",
   "execution_count": 3,
   "metadata": {},
   "outputs": [
    {
     "name": "stdout",
     "output_type": "stream",
     "text": [
      "1\t2\t짝\t4\t5\t짝\t7\t8\t짝\t10\t\n",
      "11\t12\t짝\t14\t15\t짝\t17\t18\t짝\t20\t\n",
      "21\t22\t짝\t24\t25\t짝\t27\t28\t짝\t짝\t\n",
      "짝\t짝\t짝짝\t짝\t짝\t짝짝\t짝\t짝\t짝짝\t40\t\n",
      "41\t42\t짝\t44\t45\t짝\t47\t48\t짝\t50\t\n",
      "51\t52\t짝\t54\t55\t짝\t57\t58\t짝\t짝\t\n",
      "짝\t짝\t짝짝\t짝\t짝\t짝짝\t짝\t짝\t짝짝\t70\t\n",
      "71\t72\t짝\t74\t75\t짝\t77\t78\t짝\t80\t\n",
      "81\t82\t짝\t84\t85\t짝\t87\t88\t짝\t짝\t\n",
      "짝\t짝\t짝짝\t짝\t짝\t짝짝\t짝\t짝\t짝짝\t"
     ]
    }
   ],
   "source": [
    "for i in range(1,100):\n",
    "    st = ('3','6','9')\n",
    "    a = str(i)  \n",
    "    \n",
    "    if i >= 10 and a[0] in st and a[-1] in st: \n",
    "        a = '짝짝'\n",
    "    elif a[0] in st or a[-1] in st: \n",
    "        a = '짝'\n",
    "    print(a, end ='\\t')\n",
    "    \n",
    "    if i%10 ==0:\n",
    "        print(end ='\\n')"
   ]
  },
  {
   "cell_type": "code",
   "execution_count": null,
   "metadata": {},
   "outputs": [],
   "source": []
  }
 ],
 "metadata": {
  "colab": {
   "include_colab_link": true,
   "name": "Day3.ipynb",
   "provenance": []
  },
  "kernelspec": {
   "display_name": "Python 3 (ipykernel)",
   "language": "python",
   "name": "python3"
  },
  "language_info": {
   "codemirror_mode": {
    "name": "ipython",
    "version": 3
   },
   "file_extension": ".py",
   "mimetype": "text/x-python",
   "name": "python",
   "nbconvert_exporter": "python",
   "pygments_lexer": "ipython3",
   "version": "3.9.7"
  }
 },
 "nbformat": 4,
 "nbformat_minor": 1
}
