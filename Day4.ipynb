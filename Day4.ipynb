{
 "cells": [
  {
   "cell_type": "code",
   "execution_count": 53,
   "id": "bbd95541",
   "metadata": {},
   "outputs": [
    {
     "name": "stdout",
     "output_type": "stream",
     "text": [
      "Hello Python Programing\n",
      "52\n"
     ]
    }
   ],
   "source": [
    "print('Hello Python Programing')\n",
    "print('52')"
   ]
  },
  {
   "cell_type": "code",
   "execution_count": 54,
   "id": "1be747e9",
   "metadata": {},
   "outputs": [
    {
     "name": "stdout",
     "output_type": "stream",
     "text": [
      "52 11 world\n"
     ]
    }
   ],
   "source": [
    "print(52,11,'world')"
   ]
  },
  {
   "cell_type": "code",
   "execution_count": 55,
   "id": "c4d6db4f",
   "metadata": {},
   "outputs": [
    {
     "name": "stdout",
     "output_type": "stream",
     "text": [
      "Hello world\n",
      "\n",
      "1 2 3 4 5\n"
     ]
    }
   ],
   "source": [
    "print('Hello world')\n",
    "print()\n",
    "print(1,2,3,4,5)"
   ]
  },
  {
   "cell_type": "code",
   "execution_count": 56,
   "id": "74c1b428",
   "metadata": {
    "scrolled": true
   },
   "outputs": [
    {
     "name": "stdout",
     "output_type": "stream",
     "text": [
      "한글사용\n"
     ]
    }
   ],
   "source": [
    "# 주석은 컴퓨터는 읽지 않는다\n",
    "print('한글사용') # 주석은 코드에 대한 설명을 표현한다."
   ]
  },
  {
   "cell_type": "code",
   "execution_count": 57,
   "id": "143f3eb4",
   "metadata": {},
   "outputs": [
    {
     "name": "stdout",
     "output_type": "stream",
     "text": [
      "<class 'str'>\n",
      "<class 'str'>\n",
      "<class 'int'>\n",
      "\"안녕\"이라고 했다\n",
      "'안녕'이라고 했다\n",
      "\"안녕\"이라고 했다\n",
      "\n"
     ]
    }
   ],
   "source": [
    "# 기본자료형\n",
    "\n",
    "# 문자열 String  '안녕', Hello'\n",
    "# 숫자 int 1,2,3,4,5\n",
    "# 논리(불) boolean True, False \n",
    "\n",
    "print(type('안녕'))\n",
    "print(type(\"안녕\"))\n",
    "print(type(123))\n",
    "print('\"안녕\"이라고 했다')\n",
    "print(\"'안녕'이라고 했다\")\n",
    "print(\"\\\"안녕\\\"이라고 했다\") # 이스케이프 문자 escape character\n",
    "print()"
   ]
  },
  {
   "cell_type": "code",
   "execution_count": 58,
   "id": "c02a0201",
   "metadata": {},
   "outputs": [
    {
     "name": "stdout",
     "output_type": "stream",
     "text": [
      "이름\t나이\t지역\n",
      "김현아\t20\t강남구\n",
      "오철수\t25\t서초구\n"
     ]
    }
   ],
   "source": [
    "print('이름\\t나이\\t지역')\n",
    "print('김현아\\t20\\t강남구')\n",
    "print('오철수\\t25\\t서초구')"
   ]
  },
  {
   "cell_type": "code",
   "execution_count": 59,
   "id": "19df43bf",
   "metadata": {},
   "outputs": [
    {
     "name": "stdout",
     "output_type": "stream",
     "text": [
      "Hello \n",
      "world\n"
     ]
    }
   ],
   "source": [
    "print('Hello \\nworld')"
   ]
  },
  {
   "cell_type": "code",
   "execution_count": 60,
   "id": "158a0318",
   "metadata": {},
   "outputs": [
    {
     "name": "stdout",
     "output_type": "stream",
     "text": [
      "안녕하세요\n",
      "안녕 하세요\n"
     ]
    }
   ],
   "source": [
    "print('안녕'+'하세요')\n",
    "print('안녕','하세요')"
   ]
  },
  {
   "cell_type": "code",
   "execution_count": 61,
   "id": "9fffda1d",
   "metadata": {},
   "outputs": [
    {
     "name": "stdout",
     "output_type": "stream",
     "text": [
      "------------------------------\n"
     ]
    }
   ],
   "source": [
    "print('-' *30)"
   ]
  },
  {
   "cell_type": "code",
   "execution_count": 62,
   "id": "8cba17b1",
   "metadata": {},
   "outputs": [
    {
     "ename": "TypeError",
     "evalue": "can only concatenate str (not \"int\") to str",
     "output_type": "error",
     "traceback": [
      "\u001b[1;31m---------------------------------------------------------------------------\u001b[0m",
      "\u001b[1;31mTypeError\u001b[0m                                 Traceback (most recent call last)",
      "\u001b[1;32m~\\AppData\\Local\\Temp/ipykernel_14792/553783354.py\u001b[0m in \u001b[0;36m<module>\u001b[1;34m\u001b[0m\n\u001b[1;32m----> 1\u001b[1;33m \u001b[0mprint\u001b[0m\u001b[1;33m(\u001b[0m\u001b[1;34m'-'\u001b[0m\u001b[1;33m+\u001b[0m \u001b[1;36m5\u001b[0m\u001b[1;33m)\u001b[0m\u001b[1;33m\u001b[0m\u001b[1;33m\u001b[0m\u001b[0m\n\u001b[0m",
      "\u001b[1;31mTypeError\u001b[0m: can only concatenate str (not \"int\") to str"
     ]
    }
   ],
   "source": [
    "print('-'+ 5) "
   ]
  },
  {
   "cell_type": "code",
   "execution_count": null,
   "id": "f4279ac7",
   "metadata": {},
   "outputs": [],
   "source": [
    "#문자열에서 인덱싱 (문자 하나를 선택)\n",
    "\n",
    "print('안녕하세요'[0])\n",
    "print('안녕하세요'[1])      \n",
    "print('안녕하세요'[2])\n",
    "print('안녕하세요'[3])\n",
    "print('안녕하세요'[4])"
   ]
  },
  {
   "cell_type": "code",
   "execution_count": null,
   "id": "6e4308f8",
   "metadata": {},
   "outputs": [],
   "source": [
    "print('안녕하세요'[-1])\n",
    "print('안녕하세요'[-2])      \n",
    "print('안녕하세요'[-3])\n",
    "print('안녕하세요'[-4])\n",
    "print('안녕하세요'[-5])"
   ]
  },
  {
   "cell_type": "code",
   "execution_count": null,
   "id": "0c821796",
   "metadata": {},
   "outputs": [],
   "source": [
    "# 문자열에서으 슬라이싱 (문자열에서 여러 글자 선택)\n",
    "\n",
    "print('안녕하세요'[1:4]) # [1부터 4 미만]\n",
    "print('안녕하세요'[1:]) \n",
    "print('안녕하세요'[:3])\n",
    "print('안녕하세요'[:])"
   ]
  },
  {
   "cell_type": "code",
   "execution_count": null,
   "id": "5f49c0db",
   "metadata": {},
   "outputs": [],
   "source": [
    "print('안녕하세요'[9])"
   ]
  },
  {
   "cell_type": "code",
   "execution_count": null,
   "id": "09ee0bc3",
   "metadata": {},
   "outputs": [],
   "source": [
    "print(len('안녕하세요')) # 길이는 1에서 시작한다...."
   ]
  },
  {
   "cell_type": "code",
   "execution_count": null,
   "id": "64732de4",
   "metadata": {},
   "outputs": [],
   "source": [
    "# 조건문 \n",
    "\n",
    "# bool & if\n",
    "\n",
    "\n",
    "print(True)"
   ]
  },
  {
   "cell_type": "code",
   "execution_count": null,
   "id": "d19eb51d",
   "metadata": {},
   "outputs": [],
   "source": [
    "print(10 ==100)\n",
    "print(10 != 100)\n",
    "print(10 > 100)\n",
    "print(10 >= 100)"
   ]
  },
  {
   "cell_type": "code",
   "execution_count": null,
   "id": "60c6fb60",
   "metadata": {},
   "outputs": [],
   "source": [
    "print(\"가방\" == \"가방\")\n",
    "print(\"가방\" == \"백\")\n",
    "print(\"가방\" != \"백\")\n",
    "print(\"가방\" > \"백\") # 한글은 사전 순서(가나다순)\n",
    "print(\"가방\" < \"백\")"
   ]
  },
  {
   "cell_type": "code",
   "execution_count": 105,
   "id": "09f370b8",
   "metadata": {},
   "outputs": [
    {
     "name": "stdout",
     "output_type": "stream",
     "text": [
      "정수를 입력하세요 >>2\n",
      "양수입니다\n"
     ]
    }
   ],
   "source": [
    "# if 조건문....\n",
    "# 조건에 따라 특정 코드를 실행하거나 특정 코드를 실행하지 않게 만들고 싶을떄 사용\n",
    "# 코드의 실행 흐름을 변경시키는 것을 조건 분기라고 부른다.\n",
    "\n",
    "num = int(input('정수를 입력하세요 >>'))\n",
    "\n",
    "if num > 0: \n",
    " print('양수입니다')\n",
    "\n",
    "if num < 0 :\n",
    " print('음수입니다')\n",
    "\n",
    "if num == 0 :\n",
    " print('0입니다')"
   ]
  },
  {
   "cell_type": "code",
   "execution_count": 106,
   "id": "c37e9be7",
   "metadata": {},
   "outputs": [
    {
     "name": "stdout",
     "output_type": "stream",
     "text": [
      "2022-01-28 15:40:05.804739\n",
      "2022 년\n",
      "1 월\n",
      "28 일\n",
      "15\n",
      "40\n",
      "5\n"
     ]
    }
   ],
   "source": [
    "# 날짜/시간과 관련된 기능을 가져온다\n",
    "import datetime \n",
    "\n",
    "# 현재의 날짜와 시간을 구하는 함수\n",
    "now = datetime.datetime.now()\n",
    "\n",
    "print(now)\n",
    "print(now.year,'년')\n",
    "print(now.month,'월')\n",
    "print(now.day,'일')\n",
    "print(now.hour)\n",
    "print(now.minute)\n",
    "print(now.second)"
   ]
  },
  {
   "cell_type": "code",
   "execution_count": 107,
   "id": "5fb578a8",
   "metadata": {},
   "outputs": [
    {
     "name": "stdout",
     "output_type": "stream",
     "text": [
      "현재 시각은 15시 40분 오후 입니다.\n"
     ]
    }
   ],
   "source": [
    "#현재 시각은 14시로 오후입니다\n",
    "\n",
    "\n",
    "if now.hour <12:\n",
    "    m = \"오전\"\n",
    "if now.hour > 12:\n",
    "    m = \"오후\"\n",
    "    print(f'현재 시각은 {now.hour}시 {now.minute}분 {m} 입니다.')\n"
   ]
  },
  {
   "cell_type": "code",
   "execution_count": null,
   "id": "fc40aa45",
   "metadata": {},
   "outputs": [],
   "source": [
    "# 12,1,2, 겨울 3,4,5, 봄, 6,7,8 여름 9,10,11, 가을\n",
    "# 이번 달은 1월로 겨울입니다.\n",
    "# if 만 사용하세요 "
   ]
  },
  {
   "cell_type": "code",
   "execution_count": 64,
   "id": "c914355a",
   "metadata": {},
   "outputs": [
    {
     "name": "stdout",
     "output_type": "stream",
     "text": [
      "이번달은 1월로 겨울입니다\n"
     ]
    }
   ],
   "source": [
    "if 3 <= now.month  <=5:\n",
    "    sea ='봄'\n",
    "if 6 <= now.month <=8 :\n",
    "    sea ='여름'\n",
    "if 9 <= now.month <= 11:\n",
    "    sea ='가을'\n",
    "if now.month == 12 or 1 <=now.month <=2:\n",
    "    sea ='겨울'\n",
    "    \n",
    "print(f'이번달은 {now.month}월로 {sea}입니다')\n",
    "    "
   ]
  },
  {
   "cell_type": "code",
   "execution_count": 104,
   "id": "a5729805",
   "metadata": {},
   "outputs": [
    {
     "name": "stdout",
     "output_type": "stream",
     "text": [
      "정수를 입력하세요 :13\n",
      "홀수 입니다\n"
     ]
    }
   ],
   "source": [
    "# % 연산자를 사용하지 않고\n",
    "# 정수를 입력 받아 그 수가 짝수 인지 홀수 인지를 알려주는 프로그램을 작성하세요 \n",
    "\n",
    "number = input(\"정수를 입력하세요 :\")\n",
    "\n",
    "if number[-1] in \"02468\":  \n",
    "    print('짝수 입니다')\n",
    "\n",
    "if number[-1] in \"13579\":\n",
    "    \n",
    "    print('홀수 입니다')"
   ]
  },
  {
   "cell_type": "code",
   "execution_count": 49,
   "id": "f63e842d",
   "metadata": {},
   "outputs": [
    {
     "name": "stdout",
     "output_type": "stream",
     "text": [
      "정수 입력2\n"
     ]
    }
   ],
   "source": [
    "# pass \n",
    "\n",
    "number = int(input('정수 입력'))\n",
    "\n",
    "if number > 0:\n",
    "    pass\n",
    "else :\n",
    "    pass"
   ]
  },
  {
   "cell_type": "code",
   "execution_count": 101,
   "id": "fd45f761",
   "metadata": {},
   "outputs": [
    {
     "name": "stdout",
     "output_type": "stream",
     "text": [
      "3\n",
      "4\n",
      "5\n"
     ]
    }
   ],
   "source": [
    "# 리스트와 반복문\n",
    "\n",
    "li = [1,2,3,4,5] # collection. mutable, ordered\n",
    "\n",
    "for i in li:\n",
    "    \n",
    "    if i >=3:\n",
    "        print(i)"
   ]
  },
  {
   "cell_type": "code",
   "execution_count": 85,
   "id": "63403bf1",
   "metadata": {},
   "outputs": [],
   "source": [
    "# 딕셔너리와 반복문\n",
    "\n",
    "dict = {\n",
    "    1:'홍길동',\n",
    "    2:'이몽룡'    \n",
    "}"
   ]
  },
  {
   "cell_type": "code",
   "execution_count": 83,
   "id": "a635eea5",
   "metadata": {},
   "outputs": [
    {
     "name": "stdout",
     "output_type": "stream",
     "text": [
      "홍길동\n"
     ]
    }
   ],
   "source": [
    "print(dict[1])"
   ]
  },
  {
   "cell_type": "code",
   "execution_count": 90,
   "id": "e1a4dcd5",
   "metadata": {},
   "outputs": [
    {
     "name": "stdout",
     "output_type": "stream",
     "text": [
      "1 홍길동\n",
      "2 이몽룡\n"
     ]
    }
   ],
   "source": [
    "for i in dict:\n",
    "    print(i,dict[i])"
   ]
  },
  {
   "cell_type": "code",
   "execution_count": 94,
   "id": "814b0c4f",
   "metadata": {},
   "outputs": [
    {
     "data": {
      "text/plain": [
       "[0, 2, 4]"
      ]
     },
     "execution_count": 94,
     "metadata": {},
     "output_type": "execute_result"
    }
   ],
   "source": [
    "list(range(0,5,2)) # 시작을 생략하면 0 부터 5미만 까지 증감값을 생략하면 1씩 증가"
   ]
  },
  {
   "cell_type": "code",
   "execution_count": null,
   "id": "08bfd524",
   "metadata": {},
   "outputs": [],
   "source": [
    "#for : 반복횟수를 정확히 알고 있을 떄 주로 사용\n",
    "# while : 반복횟수를 정확히 알수없을 떄 주로 사용\n",
    "\n",
    "\n",
    "while 1, for 1\n",
    "\n",
    "0번쨰 반복  \n",
    "1번째 반복\n",
    "2번째 반복 "
   ]
  },
  {
   "cell_type": "code",
   "execution_count": 111,
   "id": "ddb4f1c3",
   "metadata": {},
   "outputs": [
    {
     "name": "stdout",
     "output_type": "stream",
     "text": [
      "2번쨰 반복\n",
      "1번쨰 반복\n",
      "0번쨰 반복\n"
     ]
    }
   ],
   "source": [
    "\n",
    "for i in range(2,-1,-1): \n",
    "   print(f'{i}번쨰 반복')\n",
    "\n",
    "# i = 0\n",
    "# while i < 3:\n",
    "#     print(f'{i}번쨰 반복')\n",
    "#     i += 1"
   ]
  },
  {
   "cell_type": "code",
   "execution_count": null,
   "id": "b7cd32cb",
   "metadata": {},
   "outputs": [
    {
     "name": "stdout",
     "output_type": "stream",
     "text": [
      "1번쨰 반복입니다\n",
      "종료할까요(y)>>n\n",
      "2번쨰 반복입니다\n",
      "종료할까요(y)>>3\n",
      "3번쨰 반복입니다\n",
      "종료할까요(y)>>4\n",
      "4번쨰 반복입니다\n",
      "종료할까요(y)>>5\n",
      "5번쨰 반복입니다\n",
      "종료할까요(y)>>6\n",
      "6번쨰 반복입니다\n",
      "종료할까요(y)>>y\n"
     ]
    }
   ],
   "source": [
    "# break / continue\n",
    "\n",
    "# break 반복문 종료 \n",
    "\n",
    "i=1\n",
    "\n",
    "while True :\n",
    "    print(f'{i}번쨰 반복입니다')\n",
    "    i+=1\n",
    "    \n",
    "    inp = input('종료할까요? y or n')\n",
    "#    if esc in['y','Y'] :   \n",
    "    if esc in ['Y','y'] :\n",
    "         print('반복을 종료합니다.')\n",
    "         break\n",
    "    \n",
    "        "
   ]
  },
  {
   "cell_type": "code",
   "execution_count": 14,
   "id": "1622a1ec",
   "metadata": {},
   "outputs": [
    {
     "name": "stdout",
     "output_type": "stream",
     "text": [
      "1\n",
      "3\n",
      "5\n",
      "7\n",
      "9\n"
     ]
    }
   ],
   "source": [
    "# continue 현재 반복을 중지하고  다음 반복으로 넘어갈때 사용 \n",
    "# 전체 반복에서 부분을 뺴고 일부만 실행 할떄 사용\n",
    "\n",
    "for num in range(1,11):\n",
    "    if num % 2 == 0:\n",
    "        continue \n",
    "    print(num)\n",
    "        "
   ]
  },
  {
   "cell_type": "code",
   "execution_count": 13,
   "id": "287b4494",
   "metadata": {},
   "outputs": [
    {
     "name": "stdout",
     "output_type": "stream",
     "text": [
      "1번 진구\n",
      "2번 철수\n",
      "3번 미애\n",
      "4번 형구\n",
      "5번 진수\n"
     ]
    }
   ],
   "source": [
    "# enumerate() \n",
    "\n",
    "# 0번 진구\n",
    "# 1번 철수 \n",
    "# 2번 미애 \n",
    "# 3번 형구\n",
    "# 4번 진수 \n",
    "\n",
    "student = ['진구','철수','미애','형구','진수']\n",
    "\n",
    "# no= 0\n",
    "# for name in student: \n",
    "#     print(f'{no}번쨰 {name}친구')\n",
    "#     no += 1\n",
    "\n",
    "for no,name in enumerate(student): \n",
    "     print(f'{no+1}번 {name}')"
   ]
  },
  {
   "cell_type": "code",
   "execution_count": 15,
   "id": "d1d8854f",
   "metadata": {},
   "outputs": [
    {
     "name": "stdout",
     "output_type": "stream",
     "text": [
      "홍길동의 키는 185입니다.\n",
      "이몽룡의 키는 189입니다.\n",
      "성춘향의 키는 168입니다.\n",
      "홍길동의 키는185입니다\n",
      "이몽룡의 키는189입니다\n",
      "성춘향의 키는168입니다\n"
     ]
    }
   ],
   "source": [
    "#items() 딕셔너리는 items() 함수를 사용하여 key와 value 값을\n",
    "# 한번 추출할 수 있다.\n",
    "\n",
    "dict = {\n",
    "    '홍길동':185,\n",
    "    '이몽룡':189,\n",
    "    '성춘향':168\n",
    "}\n",
    "\n",
    "# 홍길동의 키는 185입니다\n",
    "\n",
    "\n",
    "for i in dict:\n",
    "    print(f'{i}의 키는 {dict[i]}입니다.')\n",
    "\n",
    "for n,h in dict.items(): \n",
    "     print(f'{n}의 키는{h}입니다')"
   ]
  },
  {
   "cell_type": "code",
   "execution_count": 1,
   "id": "e0887933",
   "metadata": {},
   "outputs": [
    {
     "data": {
      "text/plain": [
       "[0, 2, 4, 6, 8, 10, 12, 14, 16, 18]"
      ]
     },
     "execution_count": 1,
     "metadata": {},
     "output_type": "execute_result"
    }
   ],
   "source": [
    "#리스트 내포 list comprehensions\n",
    "\n",
    "\n",
    "array = []\n",
    "\n",
    "for i in range(0,20,2):\n",
    "    array.append(i)\n",
    "    \n",
    "array"
   ]
  },
  {
   "cell_type": "code",
   "execution_count": 22,
   "id": "51879822",
   "metadata": {},
   "outputs": [
    {
     "name": "stdout",
     "output_type": "stream",
     "text": [
      "[0, 2, 4, 6, 8, 10, 12, 14, 16, 18]\n"
     ]
    }
   ],
   "source": [
    "array = [ i  for i in range(0,20,2)  ]\n",
    "print(array)"
   ]
  },
  {
   "cell_type": "code",
   "execution_count": 18,
   "id": "d3f24c65",
   "metadata": {},
   "outputs": [
    {
     "name": "stdout",
     "output_type": "stream",
     "text": [
      "['사과', '체리', '바나나']\n"
     ]
    }
   ],
   "source": [
    "array = ['사과','체리','바나나','과자']\n",
    "\n",
    "output = [    i   for i in array    if i!='과자']\n",
    "\n",
    "print(output)"
   ]
  },
  {
   "cell_type": "code",
   "execution_count": null,
   "id": "6eec673d",
   "metadata": {},
   "outputs": [],
   "source": []
  }
 ],
 "metadata": {
  "kernelspec": {
   "display_name": "Python 3 (ipykernel)",
   "language": "python",
   "name": "python3"
  },
  "language_info": {
   "codemirror_mode": {
    "name": "ipython",
    "version": 3
   },
   "file_extension": ".py",
   "mimetype": "text/x-python",
   "name": "python",
   "nbconvert_exporter": "python",
   "pygments_lexer": "ipython3",
   "version": "3.9.7"
  }
 },
 "nbformat": 4,
 "nbformat_minor": 5
}
